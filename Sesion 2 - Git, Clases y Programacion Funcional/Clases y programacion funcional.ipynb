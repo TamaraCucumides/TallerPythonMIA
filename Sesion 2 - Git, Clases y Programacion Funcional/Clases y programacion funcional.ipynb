{
 "cells": [
  {
   "cell_type": "markdown",
   "metadata": {
    "id": "dp5sgTKZotrW"
   },
   "source": [
    "# Clases"
   ]
  },
  {
   "cell_type": "markdown",
   "metadata": {
    "id": "WWgmoMQro5Q1"
   },
   "source": [
    "Tal como las funciones se definen a traves del comando `def`, las clases se definen con el comando `class` de la siguiente manera: \n",
    "\n"
   ]
  },
  {
   "cell_type": "code",
   "execution_count": null,
   "metadata": {
    "id": "E1RRZ--FoumM"
   },
   "outputs": [],
   "source": [
    "class MyClass:\n",
    "  pass "
   ]
  },
  {
   "cell_type": "markdown",
   "metadata": {
    "id": "XEPJUMaXpdAs"
   },
   "source": [
    "Cuando definimos una clase, se nos crea un objetivo de tipo clase, el que nos permite hacer instancias de objetivos de dicha clase. Todos las instancias de una claae compartiran **atributos** y **metodos**. "
   ]
  },
  {
   "cell_type": "code",
   "execution_count": null,
   "metadata": {
    "id": "5ffMu3b6py4F"
   },
   "outputs": [],
   "source": [
    "class Persona:\n",
    "  def respirar(self):\n",
    "    return \"Sigh\""
   ]
  },
  {
   "cell_type": "markdown",
   "metadata": {
    "id": "2vDzDfaTqXCv"
   },
   "source": [
    "Creamos una instancia de la clase `Persona`"
   ]
  },
  {
   "cell_type": "code",
   "execution_count": null,
   "metadata": {
    "id": "xi27oxzbqP45"
   },
   "outputs": [],
   "source": [
    "Tamara = Persona()"
   ]
  },
  {
   "cell_type": "code",
   "execution_count": null,
   "metadata": {
    "colab": {
     "base_uri": "https://localhost:8080/",
     "height": 35
    },
    "executionInfo": {
     "elapsed": 8,
     "status": "ok",
     "timestamp": 1623458654085,
     "user": {
      "displayName": "Tamara Alexandra Cucumides",
      "photoUrl": "https://lh3.googleusercontent.com/a-/AOh14GgsvW8LF0ewd39-lcKZaQSCkHbHWgNifkwVRXY3=s64",
      "userId": "05111604239416667263"
     },
     "user_tz": 240
    },
    "id": "2Xa1ouTeqSuF",
    "outputId": "94b37a83-220c-401f-de27-8e6aa904f3a9"
   },
   "outputs": [
    {
     "data": {
      "application/vnd.google.colaboratory.intrinsic+json": {
       "type": "string"
      },
      "text/plain": [
       "'Sigh'"
      ]
     },
     "execution_count": 13,
     "metadata": {
      "tags": []
     },
     "output_type": "execute_result"
    }
   ],
   "source": [
    "Tamara.respirar()"
   ]
  },
  {
   "cell_type": "markdown",
   "metadata": {
    "id": "ZhATooMAqgmf"
   },
   "source": [
    "Los metodos son funciones dentro de una clase y se definen tal y como una funcion, con la excepcion de que reciben siempre como atributo `self` (este atributo se asocia luego a cada instancia)."
   ]
  },
  {
   "cell_type": "markdown",
   "metadata": {
    "id": "hvcoiJs6q2qe"
   },
   "source": [
    "## Constructor"
   ]
  },
  {
   "cell_type": "markdown",
   "metadata": {
    "id": "l057BcXfq5mR"
   },
   "source": [
    "Las clases tienen algunos metodos especiales, los cuales comienzan con `__`. Un ejemplo es el constructor: `__init__()`. Esta funcion se llama automaticamente cuando se instancia un objeto de esta clase."
   ]
  },
  {
   "cell_type": "code",
   "execution_count": null,
   "metadata": {
    "id": "W3-aC9AUrH1K"
   },
   "outputs": [],
   "source": [
    "class Persona:\n",
    "  def __init__(self, nombre, edad):\n",
    "    self.nombre = nombre\n",
    "    self.edad = edad\n",
    "\n",
    "  def respirar(self):\n",
    "    return \"Sigh\"\n",
    "\n",
    "  def saludar_a(self, nombre):\n",
    "    return \"{} dice: Hola {}\".format(self.nombre, nombre)"
   ]
  },
  {
   "cell_type": "code",
   "execution_count": null,
   "metadata": {
    "colab": {
     "base_uri": "https://localhost:8080/",
     "height": 171
    },
    "executionInfo": {
     "elapsed": 13,
     "status": "error",
     "timestamp": 1623458793478,
     "user": {
      "displayName": "Tamara Alexandra Cucumides",
      "photoUrl": "https://lh3.googleusercontent.com/a-/AOh14GgsvW8LF0ewd39-lcKZaQSCkHbHWgNifkwVRXY3=s64",
      "userId": "05111604239416667263"
     },
     "user_tz": 240
    },
    "id": "pUgTqn15rw9R",
    "outputId": "eb313ee9-c627-49a4-fb65-0be435e2bf6e"
   },
   "outputs": [
    {
     "ename": "TypeError",
     "evalue": "ignored",
     "output_type": "error",
     "traceback": [
      "\u001b[0;31m---------------------------------------------------------------------------\u001b[0m",
      "\u001b[0;31mTypeError\u001b[0m                                 Traceback (most recent call last)",
      "\u001b[0;32m<ipython-input-19-c844479572f3>\u001b[0m in \u001b[0;36m<module>\u001b[0;34m()\u001b[0m\n\u001b[0;32m----> 1\u001b[0;31m \u001b[0mLucas\u001b[0m \u001b[0;34m=\u001b[0m \u001b[0mPersona\u001b[0m\u001b[0;34m(\u001b[0m\u001b[0;34m)\u001b[0m\u001b[0;34m\u001b[0m\u001b[0;34m\u001b[0m\u001b[0m\n\u001b[0m",
      "\u001b[0;31mTypeError\u001b[0m: __init__() missing 2 required positional arguments: 'nombre' and 'edad'"
     ]
    }
   ],
   "source": [
    "Lucas = Persona()"
   ]
  },
  {
   "cell_type": "markdown",
   "metadata": {
    "id": "xfzcsJzRr1CV"
   },
   "source": [
    "Ahora nos dice que para instanciar un objeto de la clase `Persona`, se necesitan los atirbutos `nombre` y `edad`. "
   ]
  },
  {
   "cell_type": "code",
   "execution_count": null,
   "metadata": {
    "id": "MfHZYy1KsVZ8"
   },
   "outputs": [],
   "source": [
    "Lucas = Persona(\"Lucas\", 26)"
   ]
  },
  {
   "cell_type": "code",
   "execution_count": null,
   "metadata": {
    "colab": {
     "base_uri": "https://localhost:8080/"
    },
    "executionInfo": {
     "elapsed": 3,
     "status": "ok",
     "timestamp": 1623459026256,
     "user": {
      "displayName": "Tamara Alexandra Cucumides",
      "photoUrl": "https://lh3.googleusercontent.com/a-/AOh14GgsvW8LF0ewd39-lcKZaQSCkHbHWgNifkwVRXY3=s64",
      "userId": "05111604239416667263"
     },
     "user_tz": 240
    },
    "id": "QHQ4TNQTsZa0",
    "outputId": "25591093-7f44-4342-884c-e30481c80000"
   },
   "outputs": [
    {
     "name": "stdout",
     "output_type": "stream",
     "text": [
      "Lucas\n",
      "26\n"
     ]
    }
   ],
   "source": [
    "print(Lucas.nombre)\n",
    "print(Lucas.edad)"
   ]
  },
  {
   "cell_type": "code",
   "execution_count": null,
   "metadata": {
    "id": "I4kHji72scZG"
   },
   "outputs": [],
   "source": [
    "Tamara = Persona(\"Tamara\", 26)"
   ]
  },
  {
   "cell_type": "code",
   "execution_count": null,
   "metadata": {
    "colab": {
     "base_uri": "https://localhost:8080/"
    },
    "executionInfo": {
     "elapsed": 2,
     "status": "ok",
     "timestamp": 1623459026803,
     "user": {
      "displayName": "Tamara Alexandra Cucumides",
      "photoUrl": "https://lh3.googleusercontent.com/a-/AOh14GgsvW8LF0ewd39-lcKZaQSCkHbHWgNifkwVRXY3=s64",
      "userId": "05111604239416667263"
     },
     "user_tz": 240
    },
    "id": "Hd-aGavhsjjo",
    "outputId": "11602044-2282-4f44-a0e4-09a4471e531a"
   },
   "outputs": [
    {
     "name": "stdout",
     "output_type": "stream",
     "text": [
      "Tamara\n",
      "26\n"
     ]
    }
   ],
   "source": [
    "print(Tamara.nombre)\n",
    "print(Tamara.edad)"
   ]
  },
  {
   "cell_type": "code",
   "execution_count": null,
   "metadata": {
    "colab": {
     "base_uri": "https://localhost:8080/",
     "height": 35
    },
    "executionInfo": {
     "elapsed": 246,
     "status": "ok",
     "timestamp": 1623459044124,
     "user": {
      "displayName": "Tamara Alexandra Cucumides",
      "photoUrl": "https://lh3.googleusercontent.com/a-/AOh14GgsvW8LF0ewd39-lcKZaQSCkHbHWgNifkwVRXY3=s64",
      "userId": "05111604239416667263"
     },
     "user_tz": 240
    },
    "id": "xJWRtfKMsm__",
    "outputId": "07c142e4-4e72-4ed5-943d-ead5d7cf9df9"
   },
   "outputs": [
    {
     "data": {
      "application/vnd.google.colaboratory.intrinsic+json": {
       "type": "string"
      },
      "text/plain": [
       "'Tamara dice: Hola Pablo'"
      ]
     },
     "execution_count": 31,
     "metadata": {
      "tags": []
     },
     "output_type": "execute_result"
    }
   ],
   "source": [
    "Tamara.saludar_a(\"Pablo\")"
   ]
  },
  {
   "cell_type": "code",
   "execution_count": null,
   "metadata": {
    "colab": {
     "base_uri": "https://localhost:8080/",
     "height": 35
    },
    "executionInfo": {
     "elapsed": 243,
     "status": "ok",
     "timestamp": 1623459056252,
     "user": {
      "displayName": "Tamara Alexandra Cucumides",
      "photoUrl": "https://lh3.googleusercontent.com/a-/AOh14GgsvW8LF0ewd39-lcKZaQSCkHbHWgNifkwVRXY3=s64",
      "userId": "05111604239416667263"
     },
     "user_tz": 240
    },
    "id": "hJRm1mKIsyEU",
    "outputId": "0a2abff8-9206-461d-cf32-13d486e3b1f2"
   },
   "outputs": [
    {
     "data": {
      "application/vnd.google.colaboratory.intrinsic+json": {
       "type": "string"
      },
      "text/plain": [
       "'Lucas dice: Hola Tamara'"
      ]
     },
     "execution_count": 32,
     "metadata": {
      "tags": []
     },
     "output_type": "execute_result"
    }
   ],
   "source": [
    "Lucas.saludar_a(\"Tamara\")"
   ]
  },
  {
   "cell_type": "markdown",
   "metadata": {
    "id": "3Z9l8qGUs2Mk"
   },
   "source": [
    "Veamos un ejemplo mas adecuado para el caso de este magister: una clase que define el algoritmo Perceptron."
   ]
  },
  {
   "cell_type": "code",
   "execution_count": 1,
   "metadata": {
    "executionInfo": {
     "elapsed": 239,
     "status": "ok",
     "timestamp": 1623460993389,
     "user": {
      "displayName": "Tamara Alexandra Cucumides",
      "photoUrl": "https://lh3.googleusercontent.com/a-/AOh14GgsvW8LF0ewd39-lcKZaQSCkHbHWgNifkwVRXY3=s64",
      "userId": "05111604239416667263"
     },
     "user_tz": 240
    },
    "id": "i-Uqy_9Q0MH3"
   },
   "outputs": [],
   "source": [
    "import numpy as np"
   ]
  },
  {
   "cell_type": "code",
   "execution_count": 2,
   "metadata": {
    "executionInfo": {
     "elapsed": 235,
     "status": "ok",
     "timestamp": 1623461212474,
     "user": {
      "displayName": "Tamara Alexandra Cucumides",
      "photoUrl": "https://lh3.googleusercontent.com/a-/AOh14GgsvW8LF0ewd39-lcKZaQSCkHbHWgNifkwVRXY3=s64",
      "userId": "05111604239416667263"
     },
     "user_tz": 240
    },
    "id": "zD2fvOvztNCc"
   },
   "outputs": [],
   "source": [
    "class Perceptron:\n",
    "  def __init__(self, learning_rate=0.01):\n",
    "    self.learning_rate = learning_rate\n",
    "\n",
    "  def fit(self, data, labels, max_iter=100):\n",
    "    self.weights = np.zeros(1 + data.shape[1]) #Inicializo los pesos en 0\n",
    "    for iter in range(max_iter):\n",
    "      previous_weights = np.copy(self.weights)\n",
    "      for x,y in zip(data,labels):\n",
    "        prediction = self.predict_row(x)\n",
    "        self.weights[1:] += self.learning_rate * (y - prediction) * x #actualizar vector de pesos\n",
    "        self.weights[0] += self.learning_rate * (y - prediction) #umbral\n",
    "      if (previous_weights == self.weights).all(): #convergence, no need to keep training\n",
    "        return \n",
    "\n",
    "  def predict_row(self, data):\n",
    "    suma = np.dot(data, self.weights[1:]) + self.weights[0]\n",
    "    if suma > 0:\n",
    "      return 1\n",
    "    else:\n",
    "      return 0\n",
    "    "
   ]
  },
  {
   "cell_type": "code",
   "execution_count": 3,
   "metadata": {
    "executionInfo": {
     "elapsed": 242,
     "status": "ok",
     "timestamp": 1623461213871,
     "user": {
      "displayName": "Tamara Alexandra Cucumides",
      "photoUrl": "https://lh3.googleusercontent.com/a-/AOh14GgsvW8LF0ewd39-lcKZaQSCkHbHWgNifkwVRXY3=s64",
      "userId": "05111604239416667263"
     },
     "user_tz": 240
    },
    "id": "YtX8oH71vV0V"
   },
   "outputs": [],
   "source": [
    "import pandas as pd\n",
    "import seaborn as sns\n",
    "import matplotlib.pyplot as plt"
   ]
  },
  {
   "cell_type": "code",
   "execution_count": 4,
   "metadata": {
    "executionInfo": {
     "elapsed": 9,
     "status": "ok",
     "timestamp": 1623461214554,
     "user": {
      "displayName": "Tamara Alexandra Cucumides",
      "photoUrl": "https://lh3.googleusercontent.com/a-/AOh14GgsvW8LF0ewd39-lcKZaQSCkHbHWgNifkwVRXY3=s64",
      "userId": "05111604239416667263"
     },
     "user_tz": 240
    },
    "id": "yWpOuzrQytNQ"
   },
   "outputs": [],
   "source": [
    "data = pd.read_csv(\"data1 - data1.csv\")"
   ]
  },
  {
   "cell_type": "code",
   "execution_count": 5,
   "metadata": {
    "colab": {
     "base_uri": "https://localhost:8080/",
     "height": 205
    },
    "executionInfo": {
     "elapsed": 10,
     "status": "ok",
     "timestamp": 1623461214555,
     "user": {
      "displayName": "Tamara Alexandra Cucumides",
      "photoUrl": "https://lh3.googleusercontent.com/a-/AOh14GgsvW8LF0ewd39-lcKZaQSCkHbHWgNifkwVRXY3=s64",
      "userId": "05111604239416667263"
     },
     "user_tz": 240
    },
    "id": "fV7PcH3Wy-ti",
    "outputId": "6de54134-6908-445a-841a-47d13127fa6f"
   },
   "outputs": [
    {
     "data": {
      "text/html": [
       "<div>\n",
       "<style scoped>\n",
       "    .dataframe tbody tr th:only-of-type {\n",
       "        vertical-align: middle;\n",
       "    }\n",
       "\n",
       "    .dataframe tbody tr th {\n",
       "        vertical-align: top;\n",
       "    }\n",
       "\n",
       "    .dataframe thead th {\n",
       "        text-align: right;\n",
       "    }\n",
       "</style>\n",
       "<table border=\"1\" class=\"dataframe\">\n",
       "  <thead>\n",
       "    <tr style=\"text-align: right;\">\n",
       "      <th></th>\n",
       "      <th>x</th>\n",
       "      <th>y</th>\n",
       "      <th>label</th>\n",
       "    </tr>\n",
       "  </thead>\n",
       "  <tbody>\n",
       "    <tr>\n",
       "      <th>0</th>\n",
       "      <td>-2.6</td>\n",
       "      <td>-0.1</td>\n",
       "      <td>0</td>\n",
       "    </tr>\n",
       "    <tr>\n",
       "      <th>1</th>\n",
       "      <td>0.5</td>\n",
       "      <td>-4.8</td>\n",
       "      <td>1</td>\n",
       "    </tr>\n",
       "    <tr>\n",
       "      <th>2</th>\n",
       "      <td>3.0</td>\n",
       "      <td>3.4</td>\n",
       "      <td>1</td>\n",
       "    </tr>\n",
       "    <tr>\n",
       "      <th>3</th>\n",
       "      <td>-2.6</td>\n",
       "      <td>0.6</td>\n",
       "      <td>0</td>\n",
       "    </tr>\n",
       "    <tr>\n",
       "      <th>4</th>\n",
       "      <td>2.1</td>\n",
       "      <td>-1.3</td>\n",
       "      <td>1</td>\n",
       "    </tr>\n",
       "  </tbody>\n",
       "</table>\n",
       "</div>"
      ],
      "text/plain": [
       "     x    y  label\n",
       "0 -2.6 -0.1      0\n",
       "1  0.5 -4.8      1\n",
       "2  3.0  3.4      1\n",
       "3 -2.6  0.6      0\n",
       "4  2.1 -1.3      1"
      ]
     },
     "execution_count": 5,
     "metadata": {},
     "output_type": "execute_result"
    }
   ],
   "source": [
    "data.head()"
   ]
  },
  {
   "cell_type": "code",
   "execution_count": 6,
   "metadata": {
    "colab": {
     "base_uri": "https://localhost:8080/",
     "height": 297
    },
    "executionInfo": {
     "elapsed": 596,
     "status": "ok",
     "timestamp": 1623461215144,
     "user": {
      "displayName": "Tamara Alexandra Cucumides",
      "photoUrl": "https://lh3.googleusercontent.com/a-/AOh14GgsvW8LF0ewd39-lcKZaQSCkHbHWgNifkwVRXY3=s64",
      "userId": "05111604239416667263"
     },
     "user_tz": 240
    },
    "id": "lp3ePO4Tyv6G",
    "outputId": "f8153828-ff2a-4465-d66c-d1363e13b293"
   },
   "outputs": [
    {
     "data": {
      "text/plain": [
       "<AxesSubplot:xlabel='x', ylabel='y'>"
      ]
     },
     "execution_count": 6,
     "metadata": {},
     "output_type": "execute_result"
    },
    {
     "data": {
      "image/png": "[encoded data removed]",
      "text/plain": [
       "<Figure size 432x288 with 1 Axes>"
      ]
     },
     "metadata": {
      "needs_background": "light"
     },
     "output_type": "display_data"
    }
   ],
   "source": [
    "sns.scatterplot(data=data, x=\"x\", y=\"y\", hue=\"label\")"
   ]
  },
  {
   "cell_type": "code",
   "execution_count": 7,
   "metadata": {
    "executionInfo": {
     "elapsed": 11,
     "status": "ok",
     "timestamp": 1623461215145,
     "user": {
      "displayName": "Tamara Alexandra Cucumides",
      "photoUrl": "https://lh3.googleusercontent.com/a-/AOh14GgsvW8LF0ewd39-lcKZaQSCkHbHWgNifkwVRXY3=s64",
      "userId": "05111604239416667263"
     },
     "user_tz": 240
    },
    "id": "pF7N3O9avSaZ"
   },
   "outputs": [],
   "source": [
    "clasificador = Perceptron()"
   ]
  },
  {
   "cell_type": "code",
   "execution_count": 8,
   "metadata": {
    "executionInfo": {
     "elapsed": 389,
     "status": "ok",
     "timestamp": 1623461216716,
     "user": {
      "displayName": "Tamara Alexandra Cucumides",
      "photoUrl": "https://lh3.googleusercontent.com/a-/AOh14GgsvW8LF0ewd39-lcKZaQSCkHbHWgNifkwVRXY3=s64",
      "userId": "05111604239416667263"
     },
     "user_tz": 240
    },
    "id": "_l8XHJxk0C5d"
   },
   "outputs": [],
   "source": [
    "X = data[[\"x\", \"y\"]]\n",
    "y = data[[\"label\"]]"
   ]
  },
  {
   "cell_type": "code",
   "execution_count": 9,
   "metadata": {
    "executionInfo": {
     "elapsed": 5,
     "status": "ok",
     "timestamp": 1623461217355,
     "user": {
      "displayName": "Tamara Alexandra Cucumides",
      "photoUrl": "https://lh3.googleusercontent.com/a-/AOh14GgsvW8LF0ewd39-lcKZaQSCkHbHWgNifkwVRXY3=s64",
      "userId": "05111604239416667263"
     },
     "user_tz": 240
    },
    "id": "qVwCQGVFz1rM"
   },
   "outputs": [],
   "source": [
    "clasificador.fit(X.values, y.values)"
   ]
  },
  {
   "cell_type": "code",
   "execution_count": 10,
   "metadata": {
    "colab": {
     "base_uri": "https://localhost:8080/",
     "height": 279
    },
    "executionInfo": {
     "elapsed": 446,
     "status": "ok",
     "timestamp": 1623461219327,
     "user": {
      "displayName": "Tamara Alexandra Cucumides",
      "photoUrl": "https://lh3.googleusercontent.com/a-/AOh14GgsvW8LF0ewd39-lcKZaQSCkHbHWgNifkwVRXY3=s64",
      "userId": "05111604239416667263"
     },
     "user_tz": 240
    },
    "id": "xvZppxoz0TCI",
    "outputId": "94b9e374-ee9b-478a-a2ed-bd26d3a33ea6"
   },
   "outputs": [
    {
     "data": {
      "image/png": "[encoded data removed]",
      "text/plain": [
       "<Figure size 432x288 with 1 Axes>"
      ]
     },
     "metadata": {
      "needs_background": "light"
     },
     "output_type": "display_data"
    }
   ],
   "source": [
    "X_plot = np.linspace(-3,3,100)\n",
    "y_plot = -1*(clasificador.weights[1]*X_plot + clasificador.weights[0])/clasificador.weights[2]\n",
    "\n",
    "## AX+BY+C --> Y = (-AX - C)/B \n",
    "\n",
    "ax = sns.scatterplot(data=data, x=\"x\", y=\"y\", style=\"label\", hue='label')\n",
    "plt.plot(X_plot, y_plot, color='r') #Grafico de la linea de perceptron\n",
    "plt.show()"
   ]
  },
  {
   "cell_type": "code",
   "execution_count": 109,
   "metadata": {
    "colab": {
     "base_uri": "https://localhost:8080/"
    },
    "executionInfo": {
     "elapsed": 3,
     "status": "ok",
     "timestamp": 1623461219699,
     "user": {
      "displayName": "Tamara Alexandra Cucumides",
      "photoUrl": "https://lh3.googleusercontent.com/a-/AOh14GgsvW8LF0ewd39-lcKZaQSCkHbHWgNifkwVRXY3=s64",
      "userId": "05111604239416667263"
     },
     "user_tz": 240
    },
    "id": "hSGt5o5j0lgm",
    "outputId": "73bc6725-b178-4afc-c850-9dd4b2fa2928"
   },
   "outputs": [
    {
     "data": {
      "text/plain": [
       "1"
      ]
     },
     "execution_count": 109,
     "metadata": {
      "tags": []
     },
     "output_type": "execute_result"
    }
   ],
   "source": [
    "clasificador.predict_row(X.values[1])"
   ]
  },
  {
   "cell_type": "markdown",
   "metadata": {
    "id": "5TjfsGaJ1Hiw"
   },
   "source": [
    "## Problema propuesto"
   ]
  },
  {
   "cell_type": "code",
   "execution_count": 11,
   "metadata": {
    "executionInfo": {
     "elapsed": 256,
     "status": "ok",
     "timestamp": 1623461383409,
     "user": {
      "displayName": "Tamara Alexandra Cucumides",
      "photoUrl": "https://lh3.googleusercontent.com/a-/AOh14GgsvW8LF0ewd39-lcKZaQSCkHbHWgNifkwVRXY3=s64",
      "userId": "05111604239416667263"
     },
     "user_tz": 240
    },
    "id": "gwcm9AJR1JQG"
   },
   "outputs": [],
   "source": [
    "class Perceptron:\n",
    "  def __init__(self, learning_rate=0.01):\n",
    "    self.learning_rate = learning_rate\n",
    "\n",
    "  def fit(self, data, labels, max_iter=100):\n",
    "    self.weights = np.zeros(1 + data.shape[1]) #Inicializo los pesos en 0\n",
    "    for iter in range(max_iter):\n",
    "      previous_weights = np.copy(self.weights)\n",
    "      for x,y in zip(data,labels):\n",
    "        prediction = self.predict_row(x)\n",
    "        self.weights[1:] += self.learning_rate * (y - prediction) * x #actualizar vector de pesos\n",
    "        self.weights[0] += self.learning_rate * (y - prediction) #umbral\n",
    "      if (previous_weights == self.weights).all(): #convergence, no need to keep training\n",
    "        return \n",
    "\n",
    "  def predict_row(self, row):\n",
    "    suma = np.dot(row, self.weights[1:]) + self.weights[0]\n",
    "    if suma > 0:\n",
    "      return 1\n",
    "    else:\n",
    "      return 0\n",
    "\n",
    "  def predict(self, data):\n",
    "    ## Implemente este metodo, que recibe un arreglo 2d de puntos [[x1,y1], ..., [xn,yn]]\n",
    "    ## y retorna un lista con las predicciones para cada uno [pred1, pred2, ..., predn]\n",
    "    predictions = []\n",
    "    for row in data:\n",
    "        pred_row = self.predict_row(row)\n",
    "        predictions.append(pred_row)\n",
    "    return predictions"
   ]
  },
  {
   "cell_type": "markdown",
   "metadata": {},
   "source": [
    "Todos los metodos de una clase son funciones exclusivas para objetos de esa clase. Podemos tener multiples instancias de objetos de la misma clase. Se pueden preguntar que significa el \"self\" en los metodos de mas arriba: el self es la propia instancia. Con el ejemplo de la clase Persona queda mas claro. "
   ]
  },
  {
   "cell_type": "markdown",
   "metadata": {
    "id": "--xJOkbdovMk"
   },
   "source": [
    "# Programacion funcional"
   ]
  },
  {
   "cell_type": "markdown",
   "metadata": {
    "id": "d713165P1y1A"
   },
   "source": [
    "Veremos las funciones\n",
    "\n",
    "\n",
    "*   map\n",
    "*   reduce\n",
    "*   filter\n",
    "*   lambda\n",
    "\n"
   ]
  },
  {
   "cell_type": "markdown",
   "metadata": {
    "id": "c2M_sC4H17QS"
   },
   "source": [
    "## La funcion map, recibe una funcion y un iterable (lista, tupla) y le aplica la funcion a cada una de las componentes del iterable"
   ]
  },
  {
   "cell_type": "code",
   "execution_count": 12,
   "metadata": {
    "colab": {
     "base_uri": "https://localhost:8080/"
    },
    "executionInfo": {
     "elapsed": 257,
     "status": "ok",
     "timestamp": 1623461577122,
     "user": {
      "displayName": "Tamara Alexandra Cucumides",
      "photoUrl": "https://lh3.googleusercontent.com/a-/AOh14GgsvW8LF0ewd39-lcKZaQSCkHbHWgNifkwVRXY3=s64",
      "userId": "05111604239416667263"
     },
     "user_tz": 240
    },
    "id": "PD-nmkbFowbe",
    "outputId": "546cc515-7048-4fdc-e964-7940729ab126"
   },
   "outputs": [
    {
     "data": {
      "text/plain": [
       "<map at 0x7fe043639ee0>"
      ]
     },
     "execution_count": 12,
     "metadata": {},
     "output_type": "execute_result"
    }
   ],
   "source": [
    "def lowercase(string):\n",
    "    return string.lower()\n",
    "\n",
    "palabras = [\"Hola\", \"TAMARA\", \"LuCaS\"]\n",
    "\n",
    "map(lowercase, palabras)"
   ]
  },
  {
   "cell_type": "code",
   "execution_count": 13,
   "metadata": {
    "colab": {
     "base_uri": "https://localhost:8080/"
    },
    "executionInfo": {
     "elapsed": 261,
     "status": "ok",
     "timestamp": 1623461584712,
     "user": {
      "displayName": "Tamara Alexandra Cucumides",
      "photoUrl": "https://lh3.googleusercontent.com/a-/AOh14GgsvW8LF0ewd39-lcKZaQSCkHbHWgNifkwVRXY3=s64",
      "userId": "05111604239416667263"
     },
     "user_tz": 240
    },
    "id": "bEOZiWyM2Jev",
    "outputId": "f14c3507-1159-4c86-e235-ab2bd404c836"
   },
   "outputs": [
    {
     "data": {
      "text/plain": [
       "['hola', 'tamara', 'lucas']"
      ]
     },
     "execution_count": 13,
     "metadata": {},
     "output_type": "execute_result"
    }
   ],
   "source": [
    "list(map(lowercase, palabras))"
   ]
  },
  {
   "cell_type": "code",
   "execution_count": 14,
   "metadata": {
    "executionInfo": {
     "elapsed": 244,
     "status": "ok",
     "timestamp": 1623461605383,
     "user": {
      "displayName": "Tamara Alexandra Cucumides",
      "photoUrl": "https://lh3.googleusercontent.com/a-/AOh14GgsvW8LF0ewd39-lcKZaQSCkHbHWgNifkwVRXY3=s64",
      "userId": "05111604239416667263"
     },
     "user_tz": 240
    },
    "id": "2rcLo10a2dzE"
   },
   "outputs": [],
   "source": [
    "palabras_lowercase = [s.lower() for s in palabras]"
   ]
  },
  {
   "cell_type": "code",
   "execution_count": 15,
   "metadata": {
    "colab": {
     "base_uri": "https://localhost:8080/"
    },
    "executionInfo": {
     "elapsed": 248,
     "status": "ok",
     "timestamp": 1623461621399,
     "user": {
      "displayName": "Tamara Alexandra Cucumides",
      "photoUrl": "https://lh3.googleusercontent.com/a-/AOh14GgsvW8LF0ewd39-lcKZaQSCkHbHWgNifkwVRXY3=s64",
      "userId": "05111604239416667263"
     },
     "user_tz": 240
    },
    "id": "KrpSkCAL2i2L",
    "outputId": "ddecbac7-7baa-429f-ea68-35455d9c8231"
   },
   "outputs": [
    {
     "data": {
      "text/plain": [
       "True"
      ]
     },
     "execution_count": 15,
     "metadata": {},
     "output_type": "execute_result"
    }
   ],
   "source": [
    "palabras_lowercase == list(map(lowercase, palabras))"
   ]
  },
  {
   "cell_type": "markdown",
   "metadata": {
    "id": "asR4rqvv2qlk"
   },
   "source": [
    "## Reduce"
   ]
  },
  {
   "cell_type": "markdown",
   "metadata": {
    "id": "Im2kGXV--m9p"
   },
   "source": [
    "La funcion reduce se usa para aplicar una funcion que recibe un iterable coo input. A diferencia de map, reduce entrega un unico resultado. "
   ]
  },
  {
   "cell_type": "code",
   "execution_count": 16,
   "metadata": {
    "executionInfo": {
     "elapsed": 250,
     "status": "ok",
     "timestamp": 1623463795955,
     "user": {
      "displayName": "Tamara Alexandra Cucumides",
      "photoUrl": "https://lh3.googleusercontent.com/a-/AOh14GgsvW8LF0ewd39-lcKZaQSCkHbHWgNifkwVRXY3=s64",
      "userId": "05111604239416667263"
     },
     "user_tz": 240
    },
    "id": "LDq3ALGX-5V8"
   },
   "outputs": [],
   "source": [
    "from functools import reduce "
   ]
  },
  {
   "cell_type": "code",
   "execution_count": 17,
   "metadata": {
    "colab": {
     "base_uri": "https://localhost:8080/"
    },
    "executionInfo": {
     "elapsed": 245,
     "status": "ok",
     "timestamp": 1623463885527,
     "user": {
      "displayName": "Tamara Alexandra Cucumides",
      "photoUrl": "https://lh3.googleusercontent.com/a-/AOh14GgsvW8LF0ewd39-lcKZaQSCkHbHWgNifkwVRXY3=s64",
      "userId": "05111604239416667263"
     },
     "user_tz": 240
    },
    "id": "5K8xyrID2kZT",
    "outputId": "7582087e-cce3-45b6-a7d9-3788ba1aea69"
   },
   "outputs": [
    {
     "name": "stdout",
     "output_type": "stream",
     "text": [
      "30\n"
     ]
    }
   ],
   "source": [
    "def suma(a,b):\n",
    "  return a+b\n",
    "\n",
    "numeros = [2,4,7,8,9]\n",
    "print(reduce(suma, numeros))"
   ]
  },
  {
   "cell_type": "markdown",
   "metadata": {
    "id": "-SoCvkVg_YfH"
   },
   "source": [
    "## Lambda "
   ]
  },
  {
   "cell_type": "markdown",
   "metadata": {
    "id": "Ck4NYltP_nTu"
   },
   "source": [
    "Una funcion lambda es una funcion normalmente pequeña y es anonima, puede tomar cualquier numero de atributos como input. "
   ]
  },
  {
   "cell_type": "code",
   "execution_count": 18,
   "metadata": {
    "executionInfo": {
     "elapsed": 239,
     "status": "ok",
     "timestamp": 1623463961319,
     "user": {
      "displayName": "Tamara Alexandra Cucumides",
      "photoUrl": "https://lh3.googleusercontent.com/a-/AOh14GgsvW8LF0ewd39-lcKZaQSCkHbHWgNifkwVRXY3=s64",
      "userId": "05111604239416667263"
     },
     "user_tz": 240
    },
    "id": "KdMwd9fo_eER"
   },
   "outputs": [],
   "source": [
    "x = lambda a: a*5"
   ]
  },
  {
   "cell_type": "code",
   "execution_count": 19,
   "metadata": {
    "colab": {
     "base_uri": "https://localhost:8080/"
    },
    "executionInfo": {
     "elapsed": 366,
     "status": "ok",
     "timestamp": 1623463973001,
     "user": {
      "displayName": "Tamara Alexandra Cucumides",
      "photoUrl": "https://lh3.googleusercontent.com/a-/AOh14GgsvW8LF0ewd39-lcKZaQSCkHbHWgNifkwVRXY3=s64",
      "userId": "05111604239416667263"
     },
     "user_tz": 240
    },
    "id": "cfa3iVcW_iB3",
    "outputId": "3fa7b285-0684-4e8c-efb6-8dfdee2a1d33"
   },
   "outputs": [
    {
     "name": "stdout",
     "output_type": "stream",
     "text": [
      "25\n"
     ]
    }
   ],
   "source": [
    "print(x(5))"
   ]
  },
  {
   "cell_type": "markdown",
   "metadata": {
    "id": "qLXwzdOxAA6g"
   },
   "source": [
    "Ok, pero cuando podriamos querer usar una lambda? Un ejemplo es cuando queremos definir una funcion dentro de otra"
   ]
  },
  {
   "cell_type": "code",
   "execution_count": 20,
   "metadata": {
    "colab": {
     "base_uri": "https://localhost:8080/"
    },
    "executionInfo": {
     "elapsed": 266,
     "status": "ok",
     "timestamp": 1623464147742,
     "user": {
      "displayName": "Tamara Alexandra Cucumides",
      "photoUrl": "https://lh3.googleusercontent.com/a-/AOh14GgsvW8LF0ewd39-lcKZaQSCkHbHWgNifkwVRXY3=s64",
      "userId": "05111604239416667263"
     },
     "user_tz": 240
    },
    "id": "ki1vWdcF_k2P",
    "outputId": "9356458b-3227-4e38-8ccd-eb087105c2a9"
   },
   "outputs": [
    {
     "data": {
      "text/plain": [
       "30"
      ]
     },
     "execution_count": 20,
     "metadata": {},
     "output_type": "execute_result"
    }
   ],
   "source": [
    "numeros = [2,4,7,8,9]\n",
    "reduce(lambda a,b: a+b, numeros)"
   ]
  },
  {
   "cell_type": "code",
   "execution_count": 21,
   "metadata": {
    "colab": {
     "base_uri": "https://localhost:8080/"
    },
    "executionInfo": {
     "elapsed": 244,
     "status": "ok",
     "timestamp": 1623464176575,
     "user": {
      "displayName": "Tamara Alexandra Cucumides",
      "photoUrl": "https://lh3.googleusercontent.com/a-/AOh14GgsvW8LF0ewd39-lcKZaQSCkHbHWgNifkwVRXY3=s64",
      "userId": "05111604239416667263"
     },
     "user_tz": 240
    },
    "id": "h8OnvDOZAPgr",
    "outputId": "451c6fc7-c3c3-4cf7-bf73-3fea43a50c09"
   },
   "outputs": [
    {
     "data": {
      "text/plain": [
       "[4, 8, 14, 16, 18]"
      ]
     },
     "execution_count": 21,
     "metadata": {},
     "output_type": "execute_result"
    }
   ],
   "source": [
    "list(map(lambda a: a*2, numeros))"
   ]
  },
  {
   "cell_type": "markdown",
   "metadata": {
    "id": "P2kGNpY7A__P"
   },
   "source": [
    "## Filter"
   ]
  },
  {
   "cell_type": "markdown",
   "metadata": {
    "id": "rHqYB8oWBCCa"
   },
   "source": [
    "La funcion filter se usa para filtrar los  elementos de un iterable"
   ]
  },
  {
   "cell_type": "code",
   "execution_count": 22,
   "metadata": {
    "colab": {
     "base_uri": "https://localhost:8080/"
    },
    "executionInfo": {
     "elapsed": 245,
     "status": "ok",
     "timestamp": 1623464421421,
     "user": {
      "displayName": "Tamara Alexandra Cucumides",
      "photoUrl": "https://lh3.googleusercontent.com/a-/AOh14GgsvW8LF0ewd39-lcKZaQSCkHbHWgNifkwVRXY3=s64",
      "userId": "05111604239416667263"
     },
     "user_tz": 240
    },
    "id": "Pud3DR1DBHPZ",
    "outputId": "26018b96-71f7-4b7c-f934-014c945c7074"
   },
   "outputs": [
    {
     "data": {
      "text/plain": [
       "[2, 4, 8]"
      ]
     },
     "execution_count": 22,
     "metadata": {},
     "output_type": "execute_result"
    }
   ],
   "source": [
    "## Una funcion que filtra los elementos pares\n",
    "\n",
    "list(filter(lambda x: x%2 == 0, numeros))"
   ]
  },
  {
   "cell_type": "markdown",
   "metadata": {
    "id": "aBWHsV7pAjXe"
   },
   "source": [
    "## Ejercicios propuestos"
   ]
  },
  {
   "cell_type": "markdown",
   "metadata": {
    "id": "GwFOFzB6BZht"
   },
   "source": [
    "Haga los siguientes ejercicios usando lambda, filter, map y reduce segun corresponda"
   ]
  },
  {
   "cell_type": "code",
   "execution_count": 23,
   "metadata": {
    "id": "H19P9gDEAUbc"
   },
   "outputs": [
    {
     "data": {
      "text/plain": [
       "'aabbccdd'"
      ]
     },
     "execution_count": 23,
     "metadata": {},
     "output_type": "execute_result"
    }
   ],
   "source": [
    "## Cree un comando python que tome una lista de strings y retorne la concatenacion de todos esos strings\n",
    "\n",
    "lista_strings = [\"aa\", \"bb\", \"cc\", \"dd\"]\n",
    "\n",
    "reduce(lambda a,b: a+b, lista_strings)"
   ]
  },
  {
   "cell_type": "code",
   "execution_count": 24,
   "metadata": {
    "id": "xARLT1TTBiuW"
   },
   "outputs": [
    {
     "data": {
      "text/plain": [
       "['aa']"
      ]
     },
     "execution_count": 24,
     "metadata": {},
     "output_type": "execute_result"
    }
   ],
   "source": [
    "## Cree un comando python que tome una lista de strings y retorne solo aquellos que contienen la letra \"a\"\n",
    "\n",
    "list(filter(lambda x: \"a\" in x, lista_strings))"
   ]
  },
  {
   "cell_type": "code",
   "execution_count": 25,
   "metadata": {
    "id": "1-XmT9zABoQd"
   },
   "outputs": [
    {
     "data": {
      "text/plain": [
       "[15, 12, 17, 19]"
      ]
     },
     "execution_count": 25,
     "metadata": {},
     "output_type": "execute_result"
    }
   ],
   "source": [
    "## Cree un comando python que reciba una lista de numeros y le sume 10 a cada uno de ellos\n",
    "\n",
    "numbers = [5,2,7,9]\n",
    "\n",
    "list(map(lambda a: a+10, numbers))"
   ]
  }
 ],
 "metadata": {
  "colab": {
   "authorship_tag": "ABX9TyOEROr0CELJPN1ef44edCgb",
   "collapsed_sections": [],
   "name": "Clases y programacion funcional.ipynb",
   "provenance": []
  },
  "kernelspec": {
   "display_name": "Python 3",
   "language": "python",
   "name": "python3"
  },
  "language_info": {
   "codemirror_mode": {
    "name": "ipython",
    "version": 3
   },
   "file_extension": ".py",
   "mimetype": "text/x-python",
   "name": "python",
   "nbconvert_exporter": "python",
   "pygments_lexer": "ipython3",
   "version": "3.8.5"
  }
 },
 "nbformat": 4,
 "nbformat_minor": 1
}
