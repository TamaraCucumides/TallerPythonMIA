{
 "cells": [
  {
   "cell_type": "markdown",
   "metadata": {
    "id": "NLRhiJqPUx4m"
   },
   "source": [
    "#Taller Python MIA\n",
    "## Sesión 1: Numpy y Pandas"
   ]
  },
  {
   "cell_type": "markdown",
   "metadata": {
    "id": "p28enohZVJBQ"
   },
   "source": [
    "## Numpy\n",
    "NumPy is the fundamental package for scientific computing in Python. It is a Python library that provides a multidimensional array object, various derived objects (such as masked arrays and matrices), and an assortment of routines for fast operations on arrays, including mathematical, logical, shape manipulation, sorting, selecting, I/O, discrete Fourier transforms, basic linear algebra, basic statistical operations, random simulation and much more."
   ]
  },
  {
   "cell_type": "code",
   "execution_count": null,
   "metadata": {
    "executionInfo": {
     "elapsed": 234,
     "status": "ok",
     "timestamp": 1622899804180,
     "user": {
      "displayName": "Tamara Alexandra Cucumides",
      "photoUrl": "https://lh3.googleusercontent.com/-JaOi0yPHfYA/AAAAAAAAAAI/AAAAAAAAACY/KE7Nc9J31IA/s64/photo.jpg",
      "userId": "05111604239416667263"
     },
     "user_tz": 240
    },
    "id": "63gnrE4rUcPh"
   },
   "outputs": [],
   "source": [
    "import numpy as np"
   ]
  },
  {
   "cell_type": "code",
   "execution_count": null,
   "metadata": {
    "colab": {
     "base_uri": "https://localhost:8080/"
    },
    "executionInfo": {
     "elapsed": 229,
     "status": "ok",
     "timestamp": 1622899824382,
     "user": {
      "displayName": "Tamara Alexandra Cucumides",
      "photoUrl": "https://lh3.googleusercontent.com/-JaOi0yPHfYA/AAAAAAAAAAI/AAAAAAAAACY/KE7Nc9J31IA/s64/photo.jpg",
      "userId": "05111604239416667263"
     },
     "user_tz": 240
    },
    "id": "0V8x8qcWVgA0",
    "outputId": "e66a1c25-477e-426d-b56a-b7d10eda2fbe"
   },
   "outputs": [],
   "source": [
    "a = [1,1,1]\n",
    "b = [5,2,4]\n",
    "\n",
    "c = np.array([1,1,1])\n",
    "d = np.array([5,2,4])\n",
    "\n",
    "print(a+b)\n",
    "print(c+d)"
   ]
  },
  {
   "cell_type": "code",
   "execution_count": null,
   "metadata": {
    "colab": {
     "base_uri": "https://localhost:8080/"
    },
    "executionInfo": {
     "elapsed": 230,
     "status": "ok",
     "timestamp": 1622899860201,
     "user": {
      "displayName": "Tamara Alexandra Cucumides",
      "photoUrl": "https://lh3.googleusercontent.com/-JaOi0yPHfYA/AAAAAAAAAAI/AAAAAAAAACY/KE7Nc9J31IA/s64/photo.jpg",
      "userId": "05111604239416667263"
     },
     "user_tz": 240
    },
    "id": "qy451Dh-fsfP",
    "outputId": "834f525f-7897-4c22-fa91-7f960b73799f"
   },
   "outputs": [],
   "source": [
    "print(c*d)"
   ]
  },
  {
   "cell_type": "markdown",
   "metadata": {
    "id": "wOPZqNMsXKSA"
   },
   "source": [
    "## Algebra lineal en numpy"
   ]
  },
  {
   "cell_type": "code",
   "execution_count": null,
   "metadata": {
    "executionInfo": {
     "elapsed": 381,
     "status": "ok",
     "timestamp": 1622899931795,
     "user": {
      "displayName": "Tamara Alexandra Cucumides",
      "photoUrl": "https://lh3.googleusercontent.com/-JaOi0yPHfYA/AAAAAAAAAAI/AAAAAAAAACY/KE7Nc9J31IA/s64/photo.jpg",
      "userId": "05111604239416667263"
     },
     "user_tz": 240
    },
    "id": "kVbWEUpS5kID"
   },
   "outputs": [],
   "source": [
    "## Operaciones con vectores\n",
    "\n",
    "v1 = np.array([5,8,12])\n",
    "v2 = np.array([3,7,1])"
   ]
  },
  {
   "cell_type": "code",
   "execution_count": null,
   "metadata": {
    "colab": {
     "base_uri": "https://localhost:8080/"
    },
    "executionInfo": {
     "elapsed": 252,
     "status": "ok",
     "timestamp": 1622899945401,
     "user": {
      "displayName": "Tamara Alexandra Cucumides",
      "photoUrl": "https://lh3.googleusercontent.com/-JaOi0yPHfYA/AAAAAAAAAAI/AAAAAAAAACY/KE7Nc9J31IA/s64/photo.jpg",
      "userId": "05111604239416667263"
     },
     "user_tz": 240
    },
    "id": "KuQT1qKAf-02",
    "outputId": "ab38e1d2-ed4b-4e5a-f5d8-740e90b94365"
   },
   "outputs": [],
   "source": [
    "# Suma de vectores\n",
    "print(v1+v2)\n",
    "# Producto punto\n",
    "print(np.dot(v1, v2)) #alternativa v1@v2\n",
    "# Igualdad entre vectores\n",
    "print(v1 == v2)\n",
    "print(v1 > v2)\n",
    "# Producto cruz\n",
    "print(np.cross(v1,v2))\n",
    "print(np.cross(v2,v1))"
   ]
  },
  {
   "cell_type": "code",
   "execution_count": null,
   "metadata": {
    "executionInfo": {
     "elapsed": 270,
     "status": "ok",
     "timestamp": 1622900141346,
     "user": {
      "displayName": "Tamara Alexandra Cucumides",
      "photoUrl": "https://lh3.googleusercontent.com/-JaOi0yPHfYA/AAAAAAAAAAI/AAAAAAAAACY/KE7Nc9J31IA/s64/photo.jpg",
      "userId": "05111604239416667263"
     },
     "user_tz": 240
    },
    "id": "zoioA-HlYpsg"
   },
   "outputs": [],
   "source": [
    "v1_x = np.array([[5,8,12]])"
   ]
  },
  {
   "cell_type": "code",
   "execution_count": null,
   "metadata": {
    "colab": {
     "base_uri": "https://localhost:8080/"
    },
    "executionInfo": {
     "elapsed": 226,
     "status": "ok",
     "timestamp": 1622900158616,
     "user": {
      "displayName": "Tamara Alexandra Cucumides",
      "photoUrl": "https://lh3.googleusercontent.com/-JaOi0yPHfYA/AAAAAAAAAAI/AAAAAAAAACY/KE7Nc9J31IA/s64/photo.jpg",
      "userId": "05111604239416667263"
     },
     "user_tz": 240
    },
    "id": "Cr6w9eIjYe70",
    "outputId": "c2bc47d1-435b-44a0-8b81-370e09adc6c4"
   },
   "outputs": [],
   "source": [
    "print(v1_x.shape)\n",
    "print(v1.shape)"
   ]
  },
  {
   "cell_type": "code",
   "execution_count": null,
   "metadata": {
    "colab": {
     "base_uri": "https://localhost:8080/"
    },
    "executionInfo": {
     "elapsed": 226,
     "status": "ok",
     "timestamp": 1622900183614,
     "user": {
      "displayName": "Tamara Alexandra Cucumides",
      "photoUrl": "https://lh3.googleusercontent.com/-JaOi0yPHfYA/AAAAAAAAAAI/AAAAAAAAACY/KE7Nc9J31IA/s64/photo.jpg",
      "userId": "05111604239416667263"
     },
     "user_tz": 240
    },
    "id": "83wthzgiY21t",
    "outputId": "108fdbc9-7350-4ae3-fe04-454aecd10448"
   },
   "outputs": [],
   "source": [
    "v1_x.T.shape"
   ]
  },
  {
   "cell_type": "code",
   "execution_count": null,
   "metadata": {
    "colab": {
     "base_uri": "https://localhost:8080/"
    },
    "executionInfo": {
     "elapsed": 243,
     "status": "ok",
     "timestamp": 1622900214514,
     "user": {
      "displayName": "Tamara Alexandra Cucumides",
      "photoUrl": "https://lh3.googleusercontent.com/-JaOi0yPHfYA/AAAAAAAAAAI/AAAAAAAAACY/KE7Nc9J31IA/s64/photo.jpg",
      "userId": "05111604239416667263"
     },
     "user_tz": 240
    },
    "id": "NN2CybSXY56O",
    "outputId": "be6de125-8e11-4b32-dc55-b4c7b99ee8d7"
   },
   "outputs": [],
   "source": [
    "print(v1.T.shape)\n",
    "v1.shape == v1.T.shape"
   ]
  },
  {
   "cell_type": "code",
   "execution_count": null,
   "metadata": {
    "executionInfo": {
     "elapsed": 255,
     "status": "ok",
     "timestamp": 1622900360868,
     "user": {
      "displayName": "Tamara Alexandra Cucumides",
      "photoUrl": "https://lh3.googleusercontent.com/-JaOi0yPHfYA/AAAAAAAAAAI/AAAAAAAAACY/KE7Nc9J31IA/s64/photo.jpg",
      "userId": "05111604239416667263"
     },
     "user_tz": 240
    },
    "id": "ZJdLev7Y5l-D"
   },
   "outputs": [],
   "source": [
    "## Operaciones con matrices\n",
    "\n",
    "mat1 = np.array([[1,2,3], [4,5,6], [0,1,1]])"
   ]
  },
  {
   "cell_type": "code",
   "execution_count": null,
   "metadata": {
    "colab": {
     "base_uri": "https://localhost:8080/"
    },
    "executionInfo": {
     "elapsed": 247,
     "status": "ok",
     "timestamp": 1622900365072,
     "user": {
      "displayName": "Tamara Alexandra Cucumides",
      "photoUrl": "https://lh3.googleusercontent.com/-JaOi0yPHfYA/AAAAAAAAAAI/AAAAAAAAACY/KE7Nc9J31IA/s64/photo.jpg",
      "userId": "05111604239416667263"
     },
     "user_tz": 240
    },
    "id": "-OZRkXQzZk0y",
    "outputId": "b0bab4e0-4710-4301-e289-dd8c458d3768"
   },
   "outputs": [],
   "source": [
    "mat1"
   ]
  },
  {
   "cell_type": "code",
   "execution_count": null,
   "metadata": {
    "executionInfo": {
     "elapsed": 247,
     "status": "ok",
     "timestamp": 1622900400094,
     "user": {
      "displayName": "Tamara Alexandra Cucumides",
      "photoUrl": "https://lh3.googleusercontent.com/-JaOi0yPHfYA/AAAAAAAAAAI/AAAAAAAAACY/KE7Nc9J31IA/s64/photo.jpg",
      "userId": "05111604239416667263"
     },
     "user_tz": 240
    },
    "id": "NF1PToLcZrrX"
   },
   "outputs": [],
   "source": [
    "mat7 = np.array([[1,2], [4,5], [0,1]])"
   ]
  },
  {
   "cell_type": "code",
   "execution_count": null,
   "metadata": {
    "colab": {
     "base_uri": "https://localhost:8080/"
    },
    "executionInfo": {
     "elapsed": 277,
     "status": "ok",
     "timestamp": 1622900379058,
     "user": {
      "displayName": "Tamara Alexandra Cucumides",
      "photoUrl": "https://lh3.googleusercontent.com/-JaOi0yPHfYA/AAAAAAAAAAI/AAAAAAAAACY/KE7Nc9J31IA/s64/photo.jpg",
      "userId": "05111604239416667263"
     },
     "user_tz": 240
    },
    "id": "dDKGa2Z3izAZ",
    "outputId": "d65c5703-09fb-421d-d421-bc7a7f449bc9"
   },
   "outputs": [],
   "source": [
    "mat1.shape"
   ]
  },
  {
   "cell_type": "code",
   "execution_count": null,
   "metadata": {
    "colab": {
     "base_uri": "https://localhost:8080/"
    },
    "executionInfo": {
     "elapsed": 241,
     "status": "ok",
     "timestamp": 1622900414862,
     "user": {
      "displayName": "Tamara Alexandra Cucumides",
      "photoUrl": "https://lh3.googleusercontent.com/-JaOi0yPHfYA/AAAAAAAAAAI/AAAAAAAAACY/KE7Nc9J31IA/s64/photo.jpg",
      "userId": "05111604239416667263"
     },
     "user_tz": 240
    },
    "id": "HSJs0799Zw9T",
    "outputId": "611b1467-aab7-4dad-b218-109a858ea650"
   },
   "outputs": [],
   "source": [
    "mat7"
   ]
  },
  {
   "cell_type": "code",
   "execution_count": null,
   "metadata": {
    "colab": {
     "base_uri": "https://localhost:8080/"
    },
    "executionInfo": {
     "elapsed": 228,
     "status": "ok",
     "timestamp": 1622900405579,
     "user": {
      "displayName": "Tamara Alexandra Cucumides",
      "photoUrl": "https://lh3.googleusercontent.com/-JaOi0yPHfYA/AAAAAAAAAAI/AAAAAAAAACY/KE7Nc9J31IA/s64/photo.jpg",
      "userId": "05111604239416667263"
     },
     "user_tz": 240
    },
    "id": "Wc0IyI1EZufp",
    "outputId": "36951572-4af3-446c-fb81-c0f857e3293c"
   },
   "outputs": [],
   "source": [
    "mat7.shape"
   ]
  },
  {
   "cell_type": "code",
   "execution_count": null,
   "metadata": {
    "colab": {
     "base_uri": "https://localhost:8080/"
    },
    "executionInfo": {
     "elapsed": 274,
     "status": "ok",
     "timestamp": 1622900451027,
     "user": {
      "displayName": "Tamara Alexandra Cucumides",
      "photoUrl": "https://lh3.googleusercontent.com/-JaOi0yPHfYA/AAAAAAAAAAI/AAAAAAAAACY/KE7Nc9J31IA/s64/photo.jpg",
      "userId": "05111604239416667263"
     },
     "user_tz": 240
    },
    "id": "qqcjfxtoZ0-c",
    "outputId": "91dbc2d9-8ce1-4b69-e241-bbe43738a6e9"
   },
   "outputs": [],
   "source": [
    "mat8 = np.array([[1,2], [4,5,6], [0,1]])"
   ]
  },
  {
   "cell_type": "code",
   "execution_count": null,
   "metadata": {
    "colab": {
     "base_uri": "https://localhost:8080/"
    },
    "executionInfo": {
     "elapsed": 253,
     "status": "ok",
     "timestamp": 1622900507026,
     "user": {
      "displayName": "Tamara Alexandra Cucumides",
      "photoUrl": "https://lh3.googleusercontent.com/-JaOi0yPHfYA/AAAAAAAAAAI/AAAAAAAAACY/KE7Nc9J31IA/s64/photo.jpg",
      "userId": "05111604239416667263"
     },
     "user_tz": 240
    },
    "id": "SUgC5hh1i1WE",
    "outputId": "89dfa123-fa5d-43a7-b5d8-cdff344708ff"
   },
   "outputs": [],
   "source": [
    "print(mat1)"
   ]
  },
  {
   "cell_type": "code",
   "execution_count": null,
   "metadata": {
    "colab": {
     "base_uri": "https://localhost:8080/"
    },
    "executionInfo": {
     "elapsed": 233,
     "status": "ok",
     "timestamp": 1622900508466,
     "user": {
      "displayName": "Tamara Alexandra Cucumides",
      "photoUrl": "https://lh3.googleusercontent.com/-JaOi0yPHfYA/AAAAAAAAAAI/AAAAAAAAACY/KE7Nc9J31IA/s64/photo.jpg",
      "userId": "05111604239416667263"
     },
     "user_tz": 240
    },
    "id": "Y3de2ToBjHD3",
    "outputId": "c6bc9ccc-d4af-4193-bc0c-2eae76b0ae9f"
   },
   "outputs": [],
   "source": [
    "# Transponer una matriz\n",
    "print(mat1.T)"
   ]
  },
  {
   "cell_type": "code",
   "execution_count": null,
   "metadata": {
    "colab": {
     "base_uri": "https://localhost:8080/"
    },
    "executionInfo": {
     "elapsed": 251,
     "status": "ok",
     "timestamp": 1622900525720,
     "user": {
      "displayName": "Tamara Alexandra Cucumides",
      "photoUrl": "https://lh3.googleusercontent.com/-JaOi0yPHfYA/AAAAAAAAAAI/AAAAAAAAACY/KE7Nc9J31IA/s64/photo.jpg",
      "userId": "05111604239416667263"
     },
     "user_tz": 240
    },
    "id": "q4ILkXAJi33H",
    "outputId": "b6e854eb-4390-4baf-c3eb-83a1c118e557"
   },
   "outputs": [],
   "source": [
    "mat2 = np.array([[1,2,5],[5,7,7]])\n",
    "print(mat2.shape)"
   ]
  },
  {
   "cell_type": "code",
   "execution_count": null,
   "metadata": {
    "colab": {
     "base_uri": "https://localhost:8080/",
     "height": 207
    },
    "executionInfo": {
     "elapsed": 230,
     "status": "error",
     "timestamp": 1622900554225,
     "user": {
      "displayName": "Tamara Alexandra Cucumides",
      "photoUrl": "https://lh3.googleusercontent.com/-JaOi0yPHfYA/AAAAAAAAAAI/AAAAAAAAACY/KE7Nc9J31IA/s64/photo.jpg",
      "userId": "05111604239416667263"
     },
     "user_tz": 240
    },
    "id": "LxvHAyGQjC6V",
    "outputId": "6dbda2ea-45be-4abf-f93c-513eb7abb81d"
   },
   "outputs": [],
   "source": [
    "print(np.dot(mat1,mat2))"
   ]
  },
  {
   "cell_type": "code",
   "execution_count": null,
   "metadata": {
    "colab": {
     "base_uri": "https://localhost:8080/"
    },
    "executionInfo": {
     "elapsed": 433,
     "status": "ok",
     "timestamp": 1622900643583,
     "user": {
      "displayName": "Tamara Alexandra Cucumides",
      "photoUrl": "https://lh3.googleusercontent.com/-JaOi0yPHfYA/AAAAAAAAAAI/AAAAAAAAACY/KE7Nc9J31IA/s64/photo.jpg",
      "userId": "05111604239416667263"
     },
     "user_tz": 240
    },
    "id": "k9SROdk6jqbw",
    "outputId": "c09aa150-bfb6-4699-c5fb-f5adae8052fa"
   },
   "outputs": [],
   "source": [
    "print(np.dot(mat2,mat1))"
   ]
  },
  {
   "cell_type": "code",
   "execution_count": null,
   "metadata": {
    "colab": {
     "base_uri": "https://localhost:8080/"
    },
    "executionInfo": {
     "elapsed": 7,
     "status": "ok",
     "timestamp": 1622900643584,
     "user": {
      "displayName": "Tamara Alexandra Cucumides",
      "photoUrl": "https://lh3.googleusercontent.com/-JaOi0yPHfYA/AAAAAAAAAAI/AAAAAAAAACY/KE7Nc9J31IA/s64/photo.jpg",
      "userId": "05111604239416667263"
     },
     "user_tz": 240
    },
    "id": "FMca_mvukAz6",
    "outputId": "c150d16d-72b5-4d32-d25b-a5e5ed4a5bee"
   },
   "outputs": [],
   "source": [
    "print(np.dot(mat1,mat2.T))"
   ]
  },
  {
   "cell_type": "code",
   "execution_count": null,
   "metadata": {
    "id": "vtATkCZk5neG"
   },
   "outputs": [],
   "source": [
    "## Metodos de algebra lineal que ya vienen implementados"
   ]
  },
  {
   "cell_type": "code",
   "execution_count": null,
   "metadata": {
    "colab": {
     "base_uri": "https://localhost:8080/"
    },
    "executionInfo": {
     "elapsed": 240,
     "status": "ok",
     "timestamp": 1622901361279,
     "user": {
      "displayName": "Tamara Alexandra Cucumides",
      "photoUrl": "https://lh3.googleusercontent.com/-JaOi0yPHfYA/AAAAAAAAAAI/AAAAAAAAACY/KE7Nc9J31IA/s64/photo.jpg",
      "userId": "05111604239416667263"
     },
     "user_tz": 240
    },
    "id": "FoXZNmXmpLTi",
    "outputId": "ea57b225-651f-4e8c-82db-73f3f51093e4"
   },
   "outputs": [],
   "source": [
    "# Norma de matriz o vector\n",
    "print(np.linalg.norm(v1))\n",
    "print(np.linalg.norm(mat1))\n",
    "# Determinante\n",
    "print(np.linalg.det(mat1))\n",
    "# Calculo de la inversa para una matriz\n",
    "print(np.linalg.inv(mat1))"
   ]
  },
  {
   "cell_type": "code",
   "execution_count": null,
   "metadata": {
    "colab": {
     "base_uri": "https://localhost:8080/"
    },
    "executionInfo": {
     "elapsed": 227,
     "status": "ok",
     "timestamp": 1622901400565,
     "user": {
      "displayName": "Tamara Alexandra Cucumides",
      "photoUrl": "https://lh3.googleusercontent.com/-JaOi0yPHfYA/AAAAAAAAAAI/AAAAAAAAACY/KE7Nc9J31IA/s64/photo.jpg",
      "userId": "05111604239416667263"
     },
     "user_tz": 240
    },
    "id": "2A0A0ZpVdhbg",
    "outputId": "0d97c6bd-4c60-4fa0-9291-0a484c3c3789"
   },
   "outputs": [],
   "source": [
    "mat1"
   ]
  },
  {
   "cell_type": "code",
   "execution_count": null,
   "metadata": {
    "colab": {
     "base_uri": "https://localhost:8080/"
    },
    "executionInfo": {
     "elapsed": 239,
     "status": "ok",
     "timestamp": 1622901427769,
     "user": {
      "displayName": "Tamara Alexandra Cucumides",
      "photoUrl": "https://lh3.googleusercontent.com/-JaOi0yPHfYA/AAAAAAAAAAI/AAAAAAAAACY/KE7Nc9J31IA/s64/photo.jpg",
      "userId": "05111604239416667263"
     },
     "user_tz": 240
    },
    "id": "nODkPzTuPYCn",
    "outputId": "be0b474f-3d2b-4a8c-d37d-4c427da20daf"
   },
   "outputs": [],
   "source": [
    "# Descomposiciones matriciales\n",
    "s,v,d = np.linalg.svd(mat1)\n",
    "print(s)\n",
    "print(v)\n",
    "print(d)\n"
   ]
  },
  {
   "cell_type": "code",
   "execution_count": null,
   "metadata": {
    "colab": {
     "base_uri": "https://localhost:8080/",
     "height": 358
    },
    "executionInfo": {
     "elapsed": 229,
     "status": "error",
     "timestamp": 1622901494923,
     "user": {
      "displayName": "Tamara Alexandra Cucumides",
      "photoUrl": "https://lh3.googleusercontent.com/-JaOi0yPHfYA/AAAAAAAAAAI/AAAAAAAAACY/KE7Nc9J31IA/s64/photo.jpg",
      "userId": "05111604239416667263"
     },
     "user_tz": 240
    },
    "id": "ZIDaafJzdqPt",
    "outputId": "104fb8ca-106f-479d-b2ca-bd9d4f95ba18"
   },
   "outputs": [],
   "source": [
    "print(np.linalg.cholesky(mat1))"
   ]
  },
  {
   "cell_type": "code",
   "execution_count": null,
   "metadata": {
    "colab": {
     "base_uri": "https://localhost:8080/"
    },
    "executionInfo": {
     "elapsed": 228,
     "status": "ok",
     "timestamp": 1622901533254,
     "user": {
      "displayName": "Tamara Alexandra Cucumides",
      "photoUrl": "https://lh3.googleusercontent.com/-JaOi0yPHfYA/AAAAAAAAAAI/AAAAAAAAACY/KE7Nc9J31IA/s64/photo.jpg",
      "userId": "05111604239416667263"
     },
     "user_tz": 240
    },
    "id": "zxd1nCN-dfsL",
    "outputId": "97df11f4-3670-4ec7-dcbc-e621586069ca"
   },
   "outputs": [],
   "source": [
    "print(np.linalg.qr(mat1))"
   ]
  },
  {
   "cell_type": "code",
   "execution_count": null,
   "metadata": {
    "colab": {
     "base_uri": "https://localhost:8080/"
    },
    "executionInfo": {
     "elapsed": 234,
     "status": "ok",
     "timestamp": 1622901645802,
     "user": {
      "displayName": "Tamara Alexandra Cucumides",
      "photoUrl": "https://lh3.googleusercontent.com/-JaOi0yPHfYA/AAAAAAAAAAI/AAAAAAAAACY/KE7Nc9J31IA/s64/photo.jpg",
      "userId": "05111604239416667263"
     },
     "user_tz": 240
    },
    "id": "LR_oyX8-PlOa",
    "outputId": "70c2f3e3-3acb-477c-eb0f-bf441046b537"
   },
   "outputs": [],
   "source": [
    "# Valores y vectores propios\n",
    "w, v = np.linalg.eig(mat1)\n",
    "print(w)\n",
    "print(v)"
   ]
  },
  {
   "cell_type": "code",
   "execution_count": null,
   "metadata": {
    "colab": {
     "base_uri": "https://localhost:8080/"
    },
    "executionInfo": {
     "elapsed": 226,
     "status": "ok",
     "timestamp": 1622864561982,
     "user": {
      "displayName": "Tamara Alexandra Cucumides",
      "photoUrl": "https://lh3.googleusercontent.com/-JaOi0yPHfYA/AAAAAAAAAAI/AAAAAAAAACY/KE7Nc9J31IA/s64/photo.jpg",
      "userId": "05111604239416667263"
     },
     "user_tz": 240
    },
    "id": "s34sJcOcP-_S",
    "outputId": "735e5ef3-facd-43b0-9bcd-2fae6ecd508f"
   },
   "outputs": [],
   "source": [
    "# Creacion de matrices\n",
    "print(np.zeros(5))\n",
    "print(np.zeros([2,3]))\n",
    "\n",
    "print(np.ones(8))\n",
    "print(np.ones([8,6]))"
   ]
  },
  {
   "cell_type": "code",
   "execution_count": null,
   "metadata": {
    "colab": {
     "base_uri": "https://localhost:8080/"
    },
    "executionInfo": {
     "elapsed": 237,
     "status": "ok",
     "timestamp": 1622901740499,
     "user": {
      "displayName": "Tamara Alexandra Cucumides",
      "photoUrl": "https://lh3.googleusercontent.com/-JaOi0yPHfYA/AAAAAAAAAAI/AAAAAAAAACY/KE7Nc9J31IA/s64/photo.jpg",
      "userId": "05111604239416667263"
     },
     "user_tz": 240
    },
    "id": "ptuXNRSkQvOz",
    "outputId": "3553942c-3f07-4306-d431-1f6f6545c9cd"
   },
   "outputs": [],
   "source": [
    "## De manera random\n",
    "print(np.random.rand(7))\n",
    "print(np.random.rand(3,2))"
   ]
  },
  {
   "cell_type": "code",
   "execution_count": null,
   "metadata": {
    "colab": {
     "base_uri": "https://localhost:8080/"
    },
    "executionInfo": {
     "elapsed": 234,
     "status": "ok",
     "timestamp": 1622901823316,
     "user": {
      "displayName": "Tamara Alexandra Cucumides",
      "photoUrl": "https://lh3.googleusercontent.com/-JaOi0yPHfYA/AAAAAAAAAAI/AAAAAAAAACY/KE7Nc9J31IA/s64/photo.jpg",
      "userId": "05111604239416667263"
     },
     "user_tz": 240
    },
    "id": "G1vCY52tpecK",
    "outputId": "97982b70-e09a-4558-8f6a-28a901bb4834"
   },
   "outputs": [],
   "source": [
    "# Algunas medidas estadisticas\n",
    "print(v1)\n",
    "print(v1.max())\n",
    "print(v1.min())\n",
    "print(v1.mean())\n",
    "print(np.percentile(v1,100))\n",
    "print(np.var(v1))\n",
    "print(np.std(v1))"
   ]
  },
  {
   "cell_type": "code",
   "execution_count": null,
   "metadata": {
    "colab": {
     "base_uri": "https://localhost:8080/"
    },
    "executionInfo": {
     "elapsed": 241,
     "status": "ok",
     "timestamp": 1622902019138,
     "user": {
      "displayName": "Tamara Alexandra Cucumides",
      "photoUrl": "https://lh3.googleusercontent.com/-JaOi0yPHfYA/AAAAAAAAAAI/AAAAAAAAACY/KE7Nc9J31IA/s64/photo.jpg",
      "userId": "05111604239416667263"
     },
     "user_tz": 240
    },
    "id": "sise_82TSlFo",
    "outputId": "40ecf843-c1a7-494d-9f36-41263ded58bc"
   },
   "outputs": [],
   "source": [
    "# Sorting\n",
    "v3 = np.array([7,2,6,9,14,5,3])\n",
    "print(v3)\n",
    "v3.sort()\n",
    "print(v3)\n",
    "m3 = np.array([[2,9,5],[3,1,7]])\n",
    "print(m3)\n",
    "m3.sort()\n",
    "print(m3)"
   ]
  },
  {
   "cell_type": "markdown",
   "metadata": {
    "id": "Bf8qniVtSd3S"
   },
   "source": [
    "Numpy tiene un monton de otras cosas, siempre pueden revisar la documentacion: https://numpy.org/doc/stable/contents.html"
   ]
  },
  {
   "cell_type": "markdown",
   "metadata": {
    "id": "VWvcYWNPVLWI"
   },
   "source": [
    "## Pandas\n",
    "\n",
    "pandas is a fast, powerful, flexible and easy to use open source data analysis and manipulation tool,\n",
    "built on top of the Python programming language."
   ]
  },
  {
   "cell_type": "code",
   "execution_count": null,
   "metadata": {
    "executionInfo": {
     "elapsed": 248,
     "status": "ok",
     "timestamp": 1622902413001,
     "user": {
      "displayName": "Tamara Alexandra Cucumides",
      "photoUrl": "https://lh3.googleusercontent.com/-JaOi0yPHfYA/AAAAAAAAAAI/AAAAAAAAACY/KE7Nc9J31IA/s64/photo.jpg",
      "userId": "05111604239416667263"
     },
     "user_tz": 240
    },
    "id": "-5LeJLkOUbmG"
   },
   "outputs": [],
   "source": [
    "import pandas as pd"
   ]
  },
  {
   "cell_type": "code",
   "execution_count": null,
   "metadata": {
    "executionInfo": {
     "elapsed": 390,
     "status": "ok",
     "timestamp": 1622902680387,
     "user": {
      "displayName": "Tamara Alexandra Cucumides",
      "photoUrl": "https://lh3.googleusercontent.com/-JaOi0yPHfYA/AAAAAAAAAAI/AAAAAAAAACY/KE7Nc9J31IA/s64/photo.jpg",
      "userId": "05111604239416667263"
     },
     "user_tz": 240
    },
    "id": "oTZXi5aKWw9r"
   },
   "outputs": [],
   "source": [
    "## Series y dataframes\n",
    "\n",
    "s1 = pd.Series([1,2,3,4,5])\n",
    "s2 = pd.Series([\"Tamara\", \"Lucas\", \"Roberto\", \"Domagoj\", \"Pablo\"])"
   ]
  },
  {
   "cell_type": "code",
   "execution_count": null,
   "metadata": {
    "colab": {
     "base_uri": "https://localhost:8080/"
    },
    "executionInfo": {
     "elapsed": 10,
     "status": "ok",
     "timestamp": 1622902680700,
     "user": {
      "displayName": "Tamara Alexandra Cucumides",
      "photoUrl": "https://lh3.googleusercontent.com/-JaOi0yPHfYA/AAAAAAAAAAI/AAAAAAAAACY/KE7Nc9J31IA/s64/photo.jpg",
      "userId": "05111604239416667263"
     },
     "user_tz": 240
    },
    "id": "MW96yV6T7SSW",
    "outputId": "0ec094cb-fd9f-4b43-e225-427e14eabdd5"
   },
   "outputs": [],
   "source": [
    "s1"
   ]
  },
  {
   "cell_type": "code",
   "execution_count": null,
   "metadata": {
    "colab": {
     "base_uri": "https://localhost:8080/"
    },
    "executionInfo": {
     "elapsed": 242,
     "status": "ok",
     "timestamp": 1622902682038,
     "user": {
      "displayName": "Tamara Alexandra Cucumides",
      "photoUrl": "https://lh3.googleusercontent.com/-JaOi0yPHfYA/AAAAAAAAAAI/AAAAAAAAACY/KE7Nc9J31IA/s64/photo.jpg",
      "userId": "05111604239416667263"
     },
     "user_tz": 240
    },
    "id": "eiA4mMvI7TRI",
    "outputId": "f4cf0271-2834-4ebb-c561-c24fa27e78d1"
   },
   "outputs": [],
   "source": [
    "s2"
   ]
  },
  {
   "cell_type": "code",
   "execution_count": null,
   "metadata": {
    "colab": {
     "base_uri": "https://localhost:8080/"
    },
    "executionInfo": {
     "elapsed": 354,
     "status": "ok",
     "timestamp": 1622902705379,
     "user": {
      "displayName": "Tamara Alexandra Cucumides",
      "photoUrl": "https://lh3.googleusercontent.com/-JaOi0yPHfYA/AAAAAAAAAAI/AAAAAAAAACY/KE7Nc9J31IA/s64/photo.jpg",
      "userId": "05111604239416667263"
     },
     "user_tz": 240
    },
    "id": "Vy56Zi_V7WNN",
    "outputId": "63b2bf6c-13b3-44e3-b8c6-a60e0a846037"
   },
   "outputs": [],
   "source": [
    "s1.mean()"
   ]
  },
  {
   "cell_type": "code",
   "execution_count": null,
   "metadata": {
    "executionInfo": {
     "elapsed": 240,
     "status": "ok",
     "timestamp": 1622902735930,
     "user": {
      "displayName": "Tamara Alexandra Cucumides",
      "photoUrl": "https://lh3.googleusercontent.com/-JaOi0yPHfYA/AAAAAAAAAAI/AAAAAAAAACY/KE7Nc9J31IA/s64/photo.jpg",
      "userId": "05111604239416667263"
     },
     "user_tz": 240
    },
    "id": "DPRryGgWU7y1"
   },
   "outputs": [],
   "source": [
    "## El dataframe\n",
    "\n",
    "df1 = pd.DataFrame({\"Nombre\":s2, \"ID\":s1})"
   ]
  },
  {
   "cell_type": "code",
   "execution_count": null,
   "metadata": {
    "colab": {
     "base_uri": "https://localhost:8080/",
     "height": 204
    },
    "executionInfo": {
     "elapsed": 7,
     "status": "ok",
     "timestamp": 1622892766219,
     "user": {
      "displayName": "Tamara Alexandra Cucumides",
      "photoUrl": "https://lh3.googleusercontent.com/-JaOi0yPHfYA/AAAAAAAAAAI/AAAAAAAAACY/KE7Nc9J31IA/s64/photo.jpg",
      "userId": "05111604239416667263"
     },
     "user_tz": 240
    },
    "id": "LcKKRGIj8MIP",
    "outputId": "a7e83c5c-95b8-438a-d172-d0f91892c450"
   },
   "outputs": [],
   "source": [
    "df1"
   ]
  },
  {
   "cell_type": "code",
   "execution_count": null,
   "metadata": {
    "colab": {
     "base_uri": "https://localhost:8080/"
    },
    "executionInfo": {
     "elapsed": 268,
     "status": "ok",
     "timestamp": 1622902745989,
     "user": {
      "displayName": "Tamara Alexandra Cucumides",
      "photoUrl": "https://lh3.googleusercontent.com/-JaOi0yPHfYA/AAAAAAAAAAI/AAAAAAAAACY/KE7Nc9J31IA/s64/photo.jpg",
      "userId": "05111604239416667263"
     },
     "user_tz": 240
    },
    "id": "uE0ZuJZc5xZh",
    "outputId": "df22d4e8-789a-44ac-8722-f5a358469f48"
   },
   "outputs": [],
   "source": [
    "## Metodos del dataframe\n",
    "print(df1.shape)\n",
    "print(df1.describe())\n",
    "print(df1.columns)"
   ]
  },
  {
   "cell_type": "code",
   "execution_count": null,
   "metadata": {
    "colab": {
     "base_uri": "https://localhost:8080/"
    },
    "executionInfo": {
     "elapsed": 230,
     "status": "ok",
     "timestamp": 1622902850379,
     "user": {
      "displayName": "Tamara Alexandra Cucumides",
      "photoUrl": "https://lh3.googleusercontent.com/-JaOi0yPHfYA/AAAAAAAAAAI/AAAAAAAAACY/KE7Nc9J31IA/s64/photo.jpg",
      "userId": "05111604239416667263"
     },
     "user_tz": 240
    },
    "id": "FkPI-cI9G-86",
    "outputId": "d0d7f164-e06b-49bd-c03b-fb1a1cfad49d"
   },
   "outputs": [],
   "source": [
    "# Una fila al azar\n",
    "print(df1.sample(2))"
   ]
  },
  {
   "cell_type": "code",
   "execution_count": null,
   "metadata": {
    "colab": {
     "base_uri": "https://localhost:8080/"
    },
    "executionInfo": {
     "elapsed": 241,
     "status": "ok",
     "timestamp": 1622902896265,
     "user": {
      "displayName": "Tamara Alexandra Cucumides",
      "photoUrl": "https://lh3.googleusercontent.com/-JaOi0yPHfYA/AAAAAAAAAAI/AAAAAAAAACY/KE7Nc9J31IA/s64/photo.jpg",
      "userId": "05111604239416667263"
     },
     "user_tz": 240
    },
    "id": "uq8BFfO183gw",
    "outputId": "e08796da-5b8b-457f-d9ee-211e5eac0172"
   },
   "outputs": [],
   "source": [
    "df1[\"Nombre\"].describe()"
   ]
  },
  {
   "cell_type": "code",
   "execution_count": null,
   "metadata": {
    "colab": {
     "base_uri": "https://localhost:8080/"
    },
    "executionInfo": {
     "elapsed": 386,
     "status": "ok",
     "timestamp": 1622902907916,
     "user": {
      "displayName": "Tamara Alexandra Cucumides",
      "photoUrl": "https://lh3.googleusercontent.com/-JaOi0yPHfYA/AAAAAAAAAAI/AAAAAAAAACY/KE7Nc9J31IA/s64/photo.jpg",
      "userId": "05111604239416667263"
     },
     "user_tz": 240
    },
    "id": "JqcprFxbjPzX",
    "outputId": "e5d2641e-16fd-4df3-c3fd-6de8b8c310be"
   },
   "outputs": [],
   "source": [
    "df1['ID'].describe()"
   ]
  },
  {
   "cell_type": "code",
   "execution_count": null,
   "metadata": {
    "executionInfo": {
     "elapsed": 237,
     "status": "ok",
     "timestamp": 1622903331902,
     "user": {
      "displayName": "Tamara Alexandra Cucumides",
      "photoUrl": "https://lh3.googleusercontent.com/-JaOi0yPHfYA/AAAAAAAAAAI/AAAAAAAAACY/KE7Nc9J31IA/s64/photo.jpg",
      "userId": "05111604239416667263"
     },
     "user_tz": 240
    },
    "id": "Iob5YeXLW0pX"
   },
   "outputs": [],
   "source": [
    "## Leer datos desde un archivo\n",
    "df2 = pd.read_csv(\"data.csv\")\n",
    "\n",
    "#df3 = pd.read_excel()\n"
   ]
  },
  {
   "cell_type": "code",
   "execution_count": null,
   "metadata": {
    "colab": {
     "base_uri": "https://localhost:8080/",
     "height": 175
    },
    "executionInfo": {
     "elapsed": 239,
     "status": "ok",
     "timestamp": 1622903458653,
     "user": {
      "displayName": "Tamara Alexandra Cucumides",
      "photoUrl": "https://lh3.googleusercontent.com/-JaOi0yPHfYA/AAAAAAAAAAI/AAAAAAAAACY/KE7Nc9J31IA/s64/photo.jpg",
      "userId": "05111604239416667263"
     },
     "user_tz": 240
    },
    "id": "uQ63hglm-Kyx",
    "outputId": "6ca13183-f20c-4258-920b-ce7b18476a5d"
   },
   "outputs": [],
   "source": [
    "df2"
   ]
  },
  {
   "cell_type": "code",
   "execution_count": null,
   "metadata": {
    "colab": {
     "base_uri": "https://localhost:8080/",
     "height": 299
    },
    "executionInfo": {
     "elapsed": 243,
     "status": "ok",
     "timestamp": 1622903526269,
     "user": {
      "displayName": "Tamara Alexandra Cucumides",
      "photoUrl": "https://lh3.googleusercontent.com/-JaOi0yPHfYA/AAAAAAAAAAI/AAAAAAAAACY/KE7Nc9J31IA/s64/photo.jpg",
      "userId": "05111604239416667263"
     },
     "user_tz": 240
    },
    "id": "aFudDxuE-MW8",
    "outputId": "1f73d4db-73bf-49cf-fc9f-d069baf29dc9"
   },
   "outputs": [],
   "source": [
    "df2.describe()"
   ]
  },
  {
   "cell_type": "code",
   "execution_count": null,
   "metadata": {
    "executionInfo": {
     "elapsed": 236,
     "status": "ok",
     "timestamp": 1622903595008,
     "user": {
      "displayName": "Tamara Alexandra Cucumides",
      "photoUrl": "https://lh3.googleusercontent.com/-JaOi0yPHfYA/AAAAAAAAAAI/AAAAAAAAACY/KE7Nc9J31IA/s64/photo.jpg",
      "userId": "05111604239416667263"
     },
     "user_tz": 240
    },
    "id": "UlriWkRh-PE1"
   },
   "outputs": [],
   "source": [
    "df3 = pd.read_excel(\"data.xlsx\", sheet_name=\"Hoja 2\")"
   ]
  },
  {
   "cell_type": "code",
   "execution_count": null,
   "metadata": {
    "colab": {
     "base_uri": "https://localhost:8080/",
     "height": 175
    },
    "executionInfo": {
     "elapsed": 6,
     "status": "ok",
     "timestamp": 1622903596850,
     "user": {
      "displayName": "Tamara Alexandra Cucumides",
      "photoUrl": "https://lh3.googleusercontent.com/-JaOi0yPHfYA/AAAAAAAAAAI/AAAAAAAAACY/KE7Nc9J31IA/s64/photo.jpg",
      "userId": "05111604239416667263"
     },
     "user_tz": 240
    },
    "id": "GdjnICUi_KAp",
    "outputId": "a26e6afb-f1b9-4a92-a224-95b0f746687c"
   },
   "outputs": [],
   "source": [
    "df3.head()"
   ]
  },
  {
   "cell_type": "code",
   "execution_count": null,
   "metadata": {
    "colab": {
     "base_uri": "https://localhost:8080/"
    },
    "executionInfo": {
     "elapsed": 237,
     "status": "ok",
     "timestamp": 1622903609226,
     "user": {
      "displayName": "Tamara Alexandra Cucumides",
      "photoUrl": "https://lh3.googleusercontent.com/-JaOi0yPHfYA/AAAAAAAAAAI/AAAAAAAAACY/KE7Nc9J31IA/s64/photo.jpg",
      "userId": "05111604239416667263"
     },
     "user_tz": 240
    },
    "id": "-o_Fqy-p587F",
    "outputId": "549a11ba-1f7a-4307-a692-bddfa54db24c"
   },
   "outputs": [],
   "source": [
    "## Operaciones con dataframe\n",
    "df2.columns"
   ]
  },
  {
   "cell_type": "code",
   "execution_count": null,
   "metadata": {
    "colab": {
     "base_uri": "https://localhost:8080/"
    },
    "executionInfo": {
     "elapsed": 274,
     "status": "ok",
     "timestamp": 1622903626783,
     "user": {
      "displayName": "Tamara Alexandra Cucumides",
      "photoUrl": "https://lh3.googleusercontent.com/-JaOi0yPHfYA/AAAAAAAAAAI/AAAAAAAAACY/KE7Nc9J31IA/s64/photo.jpg",
      "userId": "05111604239416667263"
     },
     "user_tz": 240
    },
    "id": "5dhgOXO4BW00",
    "outputId": "d5eb4751-ed5a-4cd5-d76d-5ce31ff3cf05"
   },
   "outputs": [],
   "source": [
    "df2[\"Nombre\"].unique()"
   ]
  },
  {
   "cell_type": "code",
   "execution_count": null,
   "metadata": {
    "colab": {
     "base_uri": "https://localhost:8080/"
    },
    "executionInfo": {
     "elapsed": 245,
     "status": "ok",
     "timestamp": 1622903645430,
     "user": {
      "displayName": "Tamara Alexandra Cucumides",
      "photoUrl": "https://lh3.googleusercontent.com/-JaOi0yPHfYA/AAAAAAAAAAI/AAAAAAAAACY/KE7Nc9J31IA/s64/photo.jpg",
      "userId": "05111604239416667263"
     },
     "user_tz": 240
    },
    "id": "NQGhQHt-BbmF",
    "outputId": "5dafc1ec-48c4-4943-d02c-ddc624b12e26"
   },
   "outputs": [],
   "source": [
    "df2[\"Evaluacion\"].value_counts()"
   ]
  },
  {
   "cell_type": "code",
   "execution_count": null,
   "metadata": {
    "colab": {
     "base_uri": "https://localhost:8080/",
     "height": 175
    },
    "executionInfo": {
     "elapsed": 266,
     "status": "ok",
     "timestamp": 1622903712544,
     "user": {
      "displayName": "Tamara Alexandra Cucumides",
      "photoUrl": "https://lh3.googleusercontent.com/-JaOi0yPHfYA/AAAAAAAAAAI/AAAAAAAAACY/KE7Nc9J31IA/s64/photo.jpg",
      "userId": "05111604239416667263"
     },
     "user_tz": 240
    },
    "id": "MH8wsPAOmVvU",
    "outputId": "7f400370-5a78-4469-c033-43ff7b12ff9c"
   },
   "outputs": [],
   "source": [
    "df2"
   ]
  },
  {
   "cell_type": "code",
   "execution_count": null,
   "metadata": {
    "colab": {
     "base_uri": "https://localhost:8080/",
     "height": 175
    },
    "executionInfo": {
     "elapsed": 229,
     "status": "ok",
     "timestamp": 1622903716220,
     "user": {
      "displayName": "Tamara Alexandra Cucumides",
      "photoUrl": "https://lh3.googleusercontent.com/-JaOi0yPHfYA/AAAAAAAAAAI/AAAAAAAAACY/KE7Nc9J31IA/s64/photo.jpg",
      "userId": "05111604239416667263"
     },
     "user_tz": 240
    },
    "id": "8LsGHMVymXER",
    "outputId": "7b6de226-314b-4506-a3dd-9fc9513d9c7f"
   },
   "outputs": [],
   "source": [
    "df3"
   ]
  },
  {
   "cell_type": "code",
   "execution_count": null,
   "metadata": {
    "colab": {
     "base_uri": "https://localhost:8080/",
     "height": 143
    },
    "executionInfo": {
     "elapsed": 239,
     "status": "ok",
     "timestamp": 1622903762338,
     "user": {
      "displayName": "Tamara Alexandra Cucumides",
      "photoUrl": "https://lh3.googleusercontent.com/-JaOi0yPHfYA/AAAAAAAAAAI/AAAAAAAAACY/KE7Nc9J31IA/s64/photo.jpg",
      "userId": "05111604239416667263"
     },
     "user_tz": 240
    },
    "id": "MBLBSa3qBSMs",
    "outputId": "ca9f550a-2469-4fa2-ee4b-a74014aee5aa"
   },
   "outputs": [],
   "source": [
    "df4 = df2.merge(df3, how=\"inner\", on=\"Nombre\")\n",
    "df4"
   ]
  },
  {
   "cell_type": "code",
   "execution_count": null,
   "metadata": {
    "colab": {
     "base_uri": "https://localhost:8080/",
     "height": 205
    },
    "executionInfo": {
     "elapsed": 242,
     "status": "ok",
     "timestamp": 1622903766610,
     "user": {
      "displayName": "Tamara Alexandra Cucumides",
      "photoUrl": "https://lh3.googleusercontent.com/-JaOi0yPHfYA/AAAAAAAAAAI/AAAAAAAAACY/KE7Nc9J31IA/s64/photo.jpg",
      "userId": "05111604239416667263"
     },
     "user_tz": 240
    },
    "id": "Icj-n19z_gMb",
    "outputId": "fb1e84d4-0466-438c-976d-80ac0bcea34b"
   },
   "outputs": [],
   "source": [
    "df5 = df2.merge(df3, how=\"outer\", on=\"Nombre\")\n",
    "df5"
   ]
  },
  {
   "cell_type": "code",
   "execution_count": null,
   "metadata": {
    "colab": {
     "base_uri": "https://localhost:8080/",
     "height": 175
    },
    "executionInfo": {
     "elapsed": 239,
     "status": "ok",
     "timestamp": 1622903781788,
     "user": {
      "displayName": "Tamara Alexandra Cucumides",
      "photoUrl": "https://lh3.googleusercontent.com/-JaOi0yPHfYA/AAAAAAAAAAI/AAAAAAAAACY/KE7Nc9J31IA/s64/photo.jpg",
      "userId": "05111604239416667263"
     },
     "user_tz": 240
    },
    "id": "1jK91yJ4AK1r",
    "outputId": "10aff0a3-262c-48c3-af8b-94a822227db5"
   },
   "outputs": [],
   "source": [
    "df2.merge(df3, how=\"left\", on=\"Nombre\")"
   ]
  },
  {
   "cell_type": "code",
   "execution_count": null,
   "metadata": {
    "colab": {
     "base_uri": "https://localhost:8080/",
     "height": 175
    },
    "executionInfo": {
     "elapsed": 230,
     "status": "ok",
     "timestamp": 1622903788730,
     "user": {
      "displayName": "Tamara Alexandra Cucumides",
      "photoUrl": "https://lh3.googleusercontent.com/-JaOi0yPHfYA/AAAAAAAAAAI/AAAAAAAAACY/KE7Nc9J31IA/s64/photo.jpg",
      "userId": "05111604239416667263"
     },
     "user_tz": 240
    },
    "id": "Ns18hUjzAP-w",
    "outputId": "ea250a92-f80d-472d-98ae-5c2ba310a59b"
   },
   "outputs": [],
   "source": [
    "df2.merge(df3, how=\"right\", on=\"Nombre\")"
   ]
  },
  {
   "cell_type": "code",
   "execution_count": null,
   "metadata": {
    "executionInfo": {
     "elapsed": 237,
     "status": "ok",
     "timestamp": 1622903815689,
     "user": {
      "displayName": "Tamara Alexandra Cucumides",
      "photoUrl": "https://lh3.googleusercontent.com/-JaOi0yPHfYA/AAAAAAAAAAI/AAAAAAAAACY/KE7Nc9J31IA/s64/photo.jpg",
      "userId": "05111604239416667263"
     },
     "user_tz": 240
    },
    "id": "LgvsGI-pUfgX"
   },
   "outputs": [],
   "source": [
    "# Concatenar Dataframes\n",
    "\n",
    "df6 = pd.DataFrame({\"X\":[1,2], \"Y\":[3,4]})\n",
    "df7 = pd.DataFrame({\"X\":[5,6], \"Y\":[7,8]})"
   ]
  },
  {
   "cell_type": "code",
   "execution_count": null,
   "metadata": {
    "colab": {
     "base_uri": "https://localhost:8080/",
     "height": 112
    },
    "executionInfo": {
     "elapsed": 8,
     "status": "ok",
     "timestamp": 1622903818807,
     "user": {
      "displayName": "Tamara Alexandra Cucumides",
      "photoUrl": "https://lh3.googleusercontent.com/-JaOi0yPHfYA/AAAAAAAAAAI/AAAAAAAAACY/KE7Nc9J31IA/s64/photo.jpg",
      "userId": "05111604239416667263"
     },
     "user_tz": 240
    },
    "id": "5u2QaizTArMD",
    "outputId": "0c49ee33-71a1-45e5-87ba-72b74f75a243"
   },
   "outputs": [],
   "source": [
    "df6"
   ]
  },
  {
   "cell_type": "code",
   "execution_count": null,
   "metadata": {
    "colab": {
     "base_uri": "https://localhost:8080/",
     "height": 112
    },
    "executionInfo": {
     "elapsed": 10,
     "status": "ok",
     "timestamp": 1622903819100,
     "user": {
      "displayName": "Tamara Alexandra Cucumides",
      "photoUrl": "https://lh3.googleusercontent.com/-JaOi0yPHfYA/AAAAAAAAAAI/AAAAAAAAACY/KE7Nc9J31IA/s64/photo.jpg",
      "userId": "05111604239416667263"
     },
     "user_tz": 240
    },
    "id": "f3Eo7SwIAsgr",
    "outputId": "13a78b5f-4dc3-4dbd-97c8-2cca0f79b0c3"
   },
   "outputs": [],
   "source": [
    "df7"
   ]
  },
  {
   "cell_type": "code",
   "execution_count": null,
   "metadata": {
    "colab": {
     "base_uri": "https://localhost:8080/",
     "height": 175
    },
    "executionInfo": {
     "elapsed": 252,
     "status": "ok",
     "timestamp": 1622903824258,
     "user": {
      "displayName": "Tamara Alexandra Cucumides",
      "photoUrl": "https://lh3.googleusercontent.com/-JaOi0yPHfYA/AAAAAAAAAAI/AAAAAAAAACY/KE7Nc9J31IA/s64/photo.jpg",
      "userId": "05111604239416667263"
     },
     "user_tz": 240
    },
    "id": "ult5DEEIAukP",
    "outputId": "3dc3f4e0-92aa-48ea-cffe-fab514896612"
   },
   "outputs": [],
   "source": [
    "pd.concat([df6, df7])"
   ]
  },
  {
   "cell_type": "code",
   "execution_count": null,
   "metadata": {
    "id": "Ai_OBypi5-wy"
   },
   "outputs": [],
   "source": [
    "## Filtros y consultas SQL en un dataframe"
   ]
  },
  {
   "cell_type": "code",
   "execution_count": null,
   "metadata": {
    "colab": {
     "base_uri": "https://localhost:8080/",
     "height": 205
    },
    "executionInfo": {
     "elapsed": 254,
     "status": "ok",
     "timestamp": 1622903863775,
     "user": {
      "displayName": "Tamara Alexandra Cucumides",
      "photoUrl": "https://lh3.googleusercontent.com/-JaOi0yPHfYA/AAAAAAAAAAI/AAAAAAAAACY/KE7Nc9J31IA/s64/photo.jpg",
      "userId": "05111604239416667263"
     },
     "user_tz": 240
    },
    "id": "uhEg3_KCA23y",
    "outputId": "082a4816-9faf-4d66-d714-d788406735a6"
   },
   "outputs": [],
   "source": [
    "df5"
   ]
  },
  {
   "cell_type": "code",
   "execution_count": null,
   "metadata": {
    "colab": {
     "base_uri": "https://localhost:8080/",
     "height": 112
    },
    "executionInfo": {
     "elapsed": 233,
     "status": "ok",
     "timestamp": 1622903867870,
     "user": {
      "displayName": "Tamara Alexandra Cucumides",
      "photoUrl": "https://lh3.googleusercontent.com/-JaOi0yPHfYA/AAAAAAAAAAI/AAAAAAAAACY/KE7Nc9J31IA/s64/photo.jpg",
      "userId": "05111604239416667263"
     },
     "user_tz": 240
    },
    "id": "MUw0Q0ZLA5Ln",
    "outputId": "f7a62f33-5518-4f24-f1bb-b2cd3d5ce8d1"
   },
   "outputs": [],
   "source": [
    "df5[df5[\"Edad\"]< 30]"
   ]
  },
  {
   "cell_type": "code",
   "execution_count": null,
   "metadata": {
    "colab": {
     "base_uri": "https://localhost:8080/",
     "height": 143
    },
    "executionInfo": {
     "elapsed": 239,
     "status": "ok",
     "timestamp": 1622903881558,
     "user": {
      "displayName": "Tamara Alexandra Cucumides",
      "photoUrl": "https://lh3.googleusercontent.com/-JaOi0yPHfYA/AAAAAAAAAAI/AAAAAAAAACY/KE7Nc9J31IA/s64/photo.jpg",
      "userId": "05111604239416667263"
     },
     "user_tz": 240
    },
    "id": "i7SBxQ7iA_Np",
    "outputId": "cde60de6-e1a1-419e-9747-90d7ee14165c"
   },
   "outputs": [],
   "source": [
    "df5[df5[\"Evaluacion\"].isin([\"Buena\", \"Muy buena\"])]"
   ]
  },
  {
   "cell_type": "code",
   "execution_count": null,
   "metadata": {
    "colab": {
     "base_uri": "https://localhost:8080/",
     "height": 143
    },
    "executionInfo": {
     "elapsed": 249,
     "status": "ok",
     "timestamp": 1622903897790,
     "user": {
      "displayName": "Tamara Alexandra Cucumides",
      "photoUrl": "https://lh3.googleusercontent.com/-JaOi0yPHfYA/AAAAAAAAAAI/AAAAAAAAACY/KE7Nc9J31IA/s64/photo.jpg",
      "userId": "05111604239416667263"
     },
     "user_tz": 240
    },
    "id": "T-w_79q6Cz7b",
    "outputId": "02e6454a-ccc1-407d-daf1-ccaf759452a3"
   },
   "outputs": [],
   "source": [
    "df5.dropna()"
   ]
  },
  {
   "cell_type": "code",
   "execution_count": null,
   "metadata": {
    "colab": {
     "base_uri": "https://localhost:8080/",
     "height": 175
    },
    "executionInfo": {
     "elapsed": 233,
     "status": "ok",
     "timestamp": 1622903939446,
     "user": {
      "displayName": "Tamara Alexandra Cucumides",
      "photoUrl": "https://lh3.googleusercontent.com/-JaOi0yPHfYA/AAAAAAAAAAI/AAAAAAAAACY/KE7Nc9J31IA/s64/photo.jpg",
      "userId": "05111604239416667263"
     },
     "user_tz": 240
    },
    "id": "_3PqiBnRnHEN",
    "outputId": "4b0f7fd9-5175-4b15-d5c1-0f51a4f77682"
   },
   "outputs": [],
   "source": [
    "df5.dropna(subset=[\"Evaluacion\"])"
   ]
  },
  {
   "cell_type": "code",
   "execution_count": null,
   "metadata": {
    "colab": {
     "base_uri": "https://localhost:8080/",
     "height": 205
    },
    "executionInfo": {
     "elapsed": 232,
     "status": "ok",
     "timestamp": 1622903991447,
     "user": {
      "displayName": "Tamara Alexandra Cucumides",
      "photoUrl": "https://lh3.googleusercontent.com/-JaOi0yPHfYA/AAAAAAAAAAI/AAAAAAAAACY/KE7Nc9J31IA/s64/photo.jpg",
      "userId": "05111604239416667263"
     },
     "user_tz": 240
    },
    "id": "oHSPU3S-naMS",
    "outputId": "28ae682b-30b4-4285-dbb5-e3c73103ade2"
   },
   "outputs": [],
   "source": [
    "df5"
   ]
  },
  {
   "cell_type": "code",
   "execution_count": null,
   "metadata": {
    "id": "nHVl2yMH5z5V"
   },
   "outputs": [],
   "source": [
    "## Nuevas columnas dependiendo de columnas ya existentes"
   ]
  },
  {
   "cell_type": "code",
   "execution_count": null,
   "metadata": {
    "executionInfo": {
     "elapsed": 246,
     "status": "ok",
     "timestamp": 1622904049296,
     "user": {
      "displayName": "Tamara Alexandra Cucumides",
      "photoUrl": "https://lh3.googleusercontent.com/-JaOi0yPHfYA/AAAAAAAAAAI/AAAAAAAAACY/KE7Nc9J31IA/s64/photo.jpg",
      "userId": "05111604239416667263"
     },
     "user_tz": 240
    },
    "id": "ADk8HUO9ChCp"
   },
   "outputs": [],
   "source": [
    "df5[\"Pago Bruto\"] = df5[\"Pago\"] * 1.11"
   ]
  },
  {
   "cell_type": "code",
   "execution_count": null,
   "metadata": {
    "colab": {
     "base_uri": "https://localhost:8080/",
     "height": 205
    },
    "executionInfo": {
     "elapsed": 7,
     "status": "ok",
     "timestamp": 1622904050688,
     "user": {
      "displayName": "Tamara Alexandra Cucumides",
      "photoUrl": "https://lh3.googleusercontent.com/-JaOi0yPHfYA/AAAAAAAAAAI/AAAAAAAAACY/KE7Nc9J31IA/s64/photo.jpg",
      "userId": "05111604239416667263"
     },
     "user_tz": 240
    },
    "id": "m4QlG8UiCust",
    "outputId": "ecaa753d-f6c9-4609-e0d3-3a51cae0d594"
   },
   "outputs": [],
   "source": [
    "df5"
   ]
  },
  {
   "cell_type": "code",
   "execution_count": null,
   "metadata": {
    "colab": {
     "base_uri": "https://localhost:8080/"
    },
    "executionInfo": {
     "elapsed": 234,
     "status": "ok",
     "timestamp": 1622904083304,
     "user": {
      "displayName": "Tamara Alexandra Cucumides",
      "photoUrl": "https://lh3.googleusercontent.com/-JaOi0yPHfYA/AAAAAAAAAAI/AAAAAAAAACY/KE7Nc9J31IA/s64/photo.jpg",
      "userId": "05111604239416667263"
     },
     "user_tz": 240
    },
    "id": "BTHlB3fnEncD",
    "outputId": "740a4fab-9174-468b-c263-3b82119451d0"
   },
   "outputs": [],
   "source": [
    "df5.columns"
   ]
  },
  {
   "cell_type": "code",
   "execution_count": null,
   "metadata": {
    "executionInfo": {
     "elapsed": 236,
     "status": "ok",
     "timestamp": 1622904103082,
     "user": {
      "displayName": "Tamara Alexandra Cucumides",
      "photoUrl": "https://lh3.googleusercontent.com/-JaOi0yPHfYA/AAAAAAAAAAI/AAAAAAAAACY/KE7Nc9J31IA/s64/photo.jpg",
      "userId": "05111604239416667263"
     },
     "user_tz": 240
    },
    "id": "rMYu7orPC85g"
   },
   "outputs": [],
   "source": [
    "def contar_cursos(row):\n",
    "  suma = 0\n",
    "  for curso in [\"Curso 1\", \"Curso 2\", \"Curso 3\", \"Curso 4\"]:\n",
    "    if row[curso] in [\"Si\", \"SI\"]:\n",
    "      suma += 1\n",
    "  return suma"
   ]
  },
  {
   "cell_type": "code",
   "execution_count": null,
   "metadata": {
    "executionInfo": {
     "elapsed": 237,
     "status": "ok",
     "timestamp": 1622904105364,
     "user": {
      "displayName": "Tamara Alexandra Cucumides",
      "photoUrl": "https://lh3.googleusercontent.com/-JaOi0yPHfYA/AAAAAAAAAAI/AAAAAAAAACY/KE7Nc9J31IA/s64/photo.jpg",
      "userId": "05111604239416667263"
     },
     "user_tz": 240
    },
    "id": "NgRwxKPiE3GR"
   },
   "outputs": [],
   "source": [
    "df5[\"Cantidad cursos\"] = df5.apply(lambda row: contar_cursos(row), axis=1)"
   ]
  },
  {
   "cell_type": "code",
   "execution_count": null,
   "metadata": {
    "colab": {
     "base_uri": "https://localhost:8080/"
    },
    "executionInfo": {
     "elapsed": 229,
     "status": "ok",
     "timestamp": 1622904382558,
     "user": {
      "displayName": "Tamara Alexandra Cucumides",
      "photoUrl": "https://lh3.googleusercontent.com/-JaOi0yPHfYA/AAAAAAAAAAI/AAAAAAAAACY/KE7Nc9J31IA/s64/photo.jpg",
      "userId": "05111604239416667263"
     },
     "user_tz": 240
    },
    "id": "KbsYtUZko23i",
    "outputId": "e37d53e0-4833-454d-d122-14176d493646"
   },
   "outputs": [],
   "source": [
    "for row in df5.iterrows():\n",
    "  print(row)"
   ]
  },
  {
   "cell_type": "code",
   "execution_count": null,
   "metadata": {
    "colab": {
     "base_uri": "https://localhost:8080/",
     "height": 205
    },
    "executionInfo": {
     "elapsed": 244,
     "status": "ok",
     "timestamp": 1622904584635,
     "user": {
      "displayName": "Tamara Alexandra Cucumides",
      "photoUrl": "https://lh3.googleusercontent.com/-JaOi0yPHfYA/AAAAAAAAAAI/AAAAAAAAACY/KE7Nc9J31IA/s64/photo.jpg",
      "userId": "05111604239416667263"
     },
     "user_tz": 240
    },
    "id": "7vI31-0TFBl-",
    "outputId": "dfb9955b-e56e-4df3-9c2e-7e849cb27817"
   },
   "outputs": [],
   "source": [
    "df5"
   ]
  },
  {
   "cell_type": "code",
   "execution_count": null,
   "metadata": {
    "id": "CuJwuN0A52Kk"
   },
   "outputs": [],
   "source": [
    "## Datos faltantes"
   ]
  },
  {
   "cell_type": "code",
   "execution_count": null,
   "metadata": {
    "colab": {
     "base_uri": "https://localhost:8080/",
     "height": 205
    },
    "executionInfo": {
     "elapsed": 400,
     "status": "ok",
     "timestamp": 1622904598367,
     "user": {
      "displayName": "Tamara Alexandra Cucumides",
      "photoUrl": "https://lh3.googleusercontent.com/-JaOi0yPHfYA/AAAAAAAAAAI/AAAAAAAAACY/KE7Nc9J31IA/s64/photo.jpg",
      "userId": "05111604239416667263"
     },
     "user_tz": 240
    },
    "id": "l27BR5vyDBGj",
    "outputId": "ce235bff-2a7a-4905-f088-d2730e53e9ef"
   },
   "outputs": [],
   "source": [
    "df5"
   ]
  },
  {
   "cell_type": "code",
   "execution_count": null,
   "metadata": {
    "colab": {
     "base_uri": "https://localhost:8080/",
     "height": 205
    },
    "executionInfo": {
     "elapsed": 11,
     "status": "ok",
     "timestamp": 1622904598369,
     "user": {
      "displayName": "Tamara Alexandra Cucumides",
      "photoUrl": "https://lh3.googleusercontent.com/-JaOi0yPHfYA/AAAAAAAAAAI/AAAAAAAAACY/KE7Nc9J31IA/s64/photo.jpg",
      "userId": "05111604239416667263"
     },
     "user_tz": 240
    },
    "id": "bQxZ6aOLDCwk",
    "outputId": "921ac4e8-fcb1-4485-fc38-7c9c497e4575"
   },
   "outputs": [],
   "source": [
    "df5.fillna(value=0)"
   ]
  },
  {
   "cell_type": "code",
   "execution_count": null,
   "metadata": {
    "colab": {
     "base_uri": "https://localhost:8080/",
     "height": 205
    },
    "executionInfo": {
     "elapsed": 235,
     "status": "ok",
     "timestamp": 1622904620834,
     "user": {
      "displayName": "Tamara Alexandra Cucumides",
      "photoUrl": "https://lh3.googleusercontent.com/-JaOi0yPHfYA/AAAAAAAAAAI/AAAAAAAAACY/KE7Nc9J31IA/s64/photo.jpg",
      "userId": "05111604239416667263"
     },
     "user_tz": 240
    },
    "id": "FDQ40w78pzqK",
    "outputId": "539be0c8-ac41-4018-b8df-7df26c37b3fa"
   },
   "outputs": [],
   "source": [
    "df5"
   ]
  },
  {
   "cell_type": "code",
   "execution_count": null,
   "metadata": {
    "colab": {
     "base_uri": "https://localhost:8080/"
    },
    "executionInfo": {
     "elapsed": 247,
     "status": "ok",
     "timestamp": 1622904648035,
     "user": {
      "displayName": "Tamara Alexandra Cucumides",
      "photoUrl": "https://lh3.googleusercontent.com/-JaOi0yPHfYA/AAAAAAAAAAI/AAAAAAAAACY/KE7Nc9J31IA/s64/photo.jpg",
      "userId": "05111604239416667263"
     },
     "user_tz": 240
    },
    "id": "1Y_etRDpDH1m",
    "outputId": "e0bf9d6b-e21c-4487-d70e-40f1d84214db"
   },
   "outputs": [],
   "source": [
    "df5[\"Pago\"].fillna(value=0)"
   ]
  },
  {
   "cell_type": "code",
   "execution_count": null,
   "metadata": {
    "colab": {
     "base_uri": "https://localhost:8080/"
    },
    "executionInfo": {
     "elapsed": 227,
     "status": "ok",
     "timestamp": 1622904666878,
     "user": {
      "displayName": "Tamara Alexandra Cucumides",
      "photoUrl": "https://lh3.googleusercontent.com/-JaOi0yPHfYA/AAAAAAAAAAI/AAAAAAAAACY/KE7Nc9J31IA/s64/photo.jpg",
      "userId": "05111604239416667263"
     },
     "user_tz": 240
    },
    "id": "GwMYUsi_DSAq",
    "outputId": "f5ecaf94-b269-4292-f5ee-9d00dc3b28ed"
   },
   "outputs": [],
   "source": [
    "df5[\"Pago\"].fillna(value=df5[\"Pago\"].mean())"
   ]
  },
  {
   "cell_type": "code",
   "execution_count": null,
   "metadata": {
    "id": "457bVHO453da"
   },
   "outputs": [],
   "source": [
    "## Plotting"
   ]
  },
  {
   "cell_type": "code",
   "execution_count": null,
   "metadata": {
    "colab": {
     "base_uri": "https://localhost:8080/",
     "height": 282
    },
    "executionInfo": {
     "elapsed": 269,
     "status": "ok",
     "timestamp": 1622894822606,
     "user": {
      "displayName": "Tamara Alexandra Cucumides",
      "photoUrl": "https://lh3.googleusercontent.com/-JaOi0yPHfYA/AAAAAAAAAAI/AAAAAAAAACY/KE7Nc9J31IA/s64/photo.jpg",
      "userId": "05111604239416667263"
     },
     "user_tz": 240
    },
    "id": "ecpP2jtgDqa5",
    "outputId": "d5d86e4b-2538-4147-a965-e5569a43684c"
   },
   "outputs": [],
   "source": [
    "df5[\"Edad\"].plot(kind=\"hist\")"
   ]
  },
  {
   "cell_type": "code",
   "execution_count": null,
   "metadata": {
    "colab": {
     "base_uri": "https://localhost:8080/",
     "height": 265
    },
    "executionInfo": {
     "elapsed": 268,
     "status": "ok",
     "timestamp": 1622895063995,
     "user": {
      "displayName": "Tamara Alexandra Cucumides",
      "photoUrl": "https://lh3.googleusercontent.com/-JaOi0yPHfYA/AAAAAAAAAAI/AAAAAAAAACY/KE7Nc9J31IA/s64/photo.jpg",
      "userId": "05111604239416667263"
     },
     "user_tz": 240
    },
    "id": "PMgtE_RxEd7R",
    "outputId": "768fc421-4b57-4456-c8d1-fc527edcd349"
   },
   "outputs": [],
   "source": [
    "df5[\"Cantidad cursos\"].plot(kind=\"pie\")"
   ]
  },
  {
   "cell_type": "code",
   "execution_count": null,
   "metadata": {
    "id": "FpAvO0StXCAq"
   },
   "outputs": [],
   "source": [
    "# Exportar dataframes (csv, excel, sql, markdown, numpyarray, etc.)\n",
    "\n",
    "df5.to_csv(\"data_exportada.csv\")\n"
   ]
  },
  {
   "cell_type": "markdown",
   "metadata": {
    "id": "-6R2gPDpVQCq"
   },
   "source": [
    "## Actividad"
   ]
  },
  {
   "cell_type": "markdown",
   "metadata": {
    "id": "JFpf68EmmuBK"
   },
   "source": [
    "### Ejercicios cortos con Numpy"
   ]
  },
  {
   "cell_type": "code",
   "execution_count": null,
   "metadata": {
    "id": "NCwHLvVJmtV4"
   },
   "outputs": [],
   "source": [
    "## Escriba una funcion que recibe una matriz y retorna True si la matriz es simetrica y False si no es simetrica\n",
    "\n",
    "def check_symmetry(A):\n",
    "    return (A == np.transpose(A)).all()"
   ]
  },
  {
   "cell_type": "code",
   "execution_count": null,
   "metadata": {},
   "outputs": [],
   "source": [
    "A = np.array([[1,1], [1,1]])\n",
    "B = np.array([[1,2], [4,5]])\n",
    "\n",
    "print(check_symmetry(A))\n",
    "print(check_symmetry(B))"
   ]
  },
  {
   "cell_type": "code",
   "execution_count": null,
   "metadata": {
    "id": "Zk0M97avVQ5b"
   },
   "outputs": [],
   "source": [
    "## Escriba una funcion que reciba una matriz y retorna la inversa si la matriz es invertible, si no lo es, retorna False\n",
    "\n",
    "def inverse(A):\n",
    "    return (np.linalg.det(A) != 0)"
   ]
  },
  {
   "cell_type": "code",
   "execution_count": null,
   "metadata": {},
   "outputs": [],
   "source": [
    "print(inverse(A))\n",
    "print(inverse(B))"
   ]
  },
  {
   "cell_type": "code",
   "execution_count": null,
   "metadata": {
    "id": "HSn12Vg2m8av"
   },
   "outputs": [],
   "source": [
    "## Escriba una funcion que recibe dos vectores y retorna True si son ortogonales y False si no lo son\n",
    "\n",
    "def check_orthogonality(v1,v2):\n",
    "    return np.dot(v1,v2) == 0"
   ]
  },
  {
   "cell_type": "code",
   "execution_count": null,
   "metadata": {},
   "outputs": [],
   "source": [
    "v1 = np.array([1,0])\n",
    "v2 = np.array([0,1])\n",
    "\n",
    "print(check_orthogonality(v1,v2))\n",
    "print(check_orthogonality(v1,v1))"
   ]
  },
  {
   "cell_type": "code",
   "execution_count": null,
   "metadata": {
    "id": "sCQDOQ7BnFOF"
   },
   "outputs": [],
   "source": [
    "## Escriba una funcion que reciba una matriz A y un vector b y entregue la solucion para Ax = b\n",
    "\n",
    "def linear_solution(A,b):\n",
    "  return np.linalg.solve(A,b)"
   ]
  },
  {
   "cell_type": "code",
   "execution_count": null,
   "metadata": {},
   "outputs": [],
   "source": [
    "print(linear_solution(B,v1))\n",
    "\n",
    "x = linear_solution(B,v1)\n",
    "\n",
    "print((np.dot(B,x) == v1).all())"
   ]
  },
  {
   "cell_type": "code",
   "execution_count": null,
   "metadata": {
    "id": "vVwjEXzCqgoP"
   },
   "outputs": [],
   "source": [
    "## Escriba una funcion que reciba una matriz A y retorne el vector propio asociado al valor propio de mayor valor\n",
    "\n",
    "def retrieve_max_eigenvalue_with_eigenvector(A):\n",
    "  pass"
   ]
  },
  {
   "cell_type": "code",
   "execution_count": null,
   "metadata": {
    "id": "8O1jRSqQPC6s"
   },
   "outputs": [],
   "source": [
    "## Genere una matriz random de 5x5. Luego guarde en un numpy array de aridad 5 el valor maximo de cada fila y en otro numpy array de tamaño 5 el valor minimo de cada columna"
   ]
  },
  {
   "cell_type": "code",
   "execution_count": null,
   "metadata": {
    "id": "u_OCWlQZPXNr"
   },
   "outputs": [],
   "source": [
    "## Escriba una funcion que tome una matriz y la estandarice por fila"
   ]
  },
  {
   "cell_type": "code",
   "execution_count": null,
   "metadata": {
    "id": "8Pnz262pPdBk"
   },
   "outputs": [],
   "source": [
    "## Escriba una funcion que tome una matriz y la estandarice por columna"
   ]
  },
  {
   "cell_type": "markdown",
   "metadata": {
    "id": "d6N61sjJoe70"
   },
   "source": [
    "### Ejercicios cortos con Pandas"
   ]
  },
  {
   "cell_type": "code",
   "execution_count": null,
   "metadata": {
    "colab": {
     "base_uri": "https://localhost:8080/"
    },
    "executionInfo": {
     "elapsed": 244,
     "status": "ok",
     "timestamp": 1622895320080,
     "user": {
      "displayName": "Tamara Alexandra Cucumides",
      "photoUrl": "https://lh3.googleusercontent.com/-JaOi0yPHfYA/AAAAAAAAAAI/AAAAAAAAACY/KE7Nc9J31IA/s64/photo.jpg",
      "userId": "05111604239416667263"
     },
     "user_tz": 240
    },
    "id": "RaHANb8yog3E",
    "outputId": "6ca5606f-2763-47c9-efb0-601f291d3878"
   },
   "outputs": [],
   "source": [
    "from sklearn.datasets import load_diabetes, load_iris\n",
    "\n",
    "load_iris()"
   ]
  },
  {
   "cell_type": "code",
   "execution_count": null,
   "metadata": {
    "id": "n3Ml9xOGGC5P"
   },
   "outputs": [],
   "source": [
    "ds1 = pd.DataFrame(load_iris().data, columns=load_iris().feature_names)"
   ]
  },
  {
   "cell_type": "code",
   "execution_count": null,
   "metadata": {
    "colab": {
     "base_uri": "https://localhost:8080/",
     "height": 419
    },
    "executionInfo": {
     "elapsed": 233,
     "status": "ok",
     "timestamp": 1622895395200,
     "user": {
      "displayName": "Tamara Alexandra Cucumides",
      "photoUrl": "https://lh3.googleusercontent.com/-JaOi0yPHfYA/AAAAAAAAAAI/AAAAAAAAACY/KE7Nc9J31IA/s64/photo.jpg",
      "userId": "05111604239416667263"
     },
     "user_tz": 240
    },
    "id": "k9oOBSEHUtrH",
    "outputId": "a611dc99-2030-4888-d67a-93c7f00cd147"
   },
   "outputs": [],
   "source": [
    "ds1"
   ]
  },
  {
   "cell_type": "code",
   "execution_count": null,
   "metadata": {
    "id": "hbf5U-dfVF89"
   },
   "outputs": [],
   "source": [
    "## Cree una nueva columna que sea la suma de todas las columnas del dataframe"
   ]
  },
  {
   "cell_type": "code",
   "execution_count": null,
   "metadata": {},
   "outputs": [],
   "source": [
    "columnas = list(ds1.columns)\n",
    "print(columnas)"
   ]
  },
  {
   "cell_type": "code",
   "execution_count": null,
   "metadata": {},
   "outputs": [],
   "source": [
    "ds1[\"suma_columnas\"] = ds1['sepal length (cm)'] + ds1['sepal width (cm)'] + ds1['petal length (cm)'] + ds1['petal width (cm)']"
   ]
  },
  {
   "cell_type": "code",
   "execution_count": null,
   "metadata": {
    "id": "iRsotU61InsY"
   },
   "outputs": [],
   "source": [
    "## Asigne el \"target\" de iris_dataset a una nueva columna llamada \"target\""
   ]
  },
  {
   "cell_type": "code",
   "execution_count": null,
   "metadata": {},
   "outputs": [],
   "source": [
    "ds1[\"target\"] = load_iris().target"
   ]
  },
  {
   "cell_type": "code",
   "execution_count": null,
   "metadata": {
    "id": "F0w45CrQI1vq"
   },
   "outputs": [],
   "source": [
    "## El target viene en numeros, asigne los nombres respectivos a cada numero"
   ]
  },
  {
   "cell_type": "code",
   "execution_count": null,
   "metadata": {},
   "outputs": [],
   "source": [
    "def assign_name(row):\n",
    "    names_map = {0:'setosa', 1:'versicolor', 2:'virginica'}\n",
    "    return names_map[row[\"target\"]]"
   ]
  },
  {
   "cell_type": "code",
   "execution_count": null,
   "metadata": {},
   "outputs": [],
   "source": [
    "ds1[\"target_name\"] = ds1.apply(lambda row: assign_name(row), axis=1)"
   ]
  },
  {
   "cell_type": "code",
   "execution_count": null,
   "metadata": {
    "id": "qB8IYxlnVAkl"
   },
   "outputs": [],
   "source": [
    "## Cree una columna asignando un numero random a cada fila\n",
    "\n",
    "columna_random = np.random.rand(len(ds1))\n",
    "\n",
    "ds1[\"random\"] = columna_random"
   ]
  },
  {
   "cell_type": "code",
   "execution_count": null,
   "metadata": {},
   "outputs": [],
   "source": [
    "ds1[\"random\"]"
   ]
  },
  {
   "cell_type": "code",
   "execution_count": null,
   "metadata": {
    "id": "9pOIOgGCVYTX"
   },
   "outputs": [],
   "source": [
    "## Haga graficos para cada una de las columnas del dataframe"
   ]
  },
  {
   "cell_type": "code",
   "execution_count": null,
   "metadata": {
    "id": "UoHN_ElgVf-c"
   },
   "outputs": [],
   "source": [
    "## Tome un subconjunto aleatorio con la mitad de filas del dataframe"
   ]
  },
  {
   "cell_type": "code",
   "execution_count": null,
   "metadata": {
    "id": "BrhDCRkQV69F"
   },
   "outputs": [],
   "source": [
    "## Normalice el dataset por fila"
   ]
  },
  {
   "cell_type": "markdown",
   "metadata": {},
   "source": []
  },
  {
   "cell_type": "markdown",
   "metadata": {
    "id": "1itfm4OBPhsd"
   },
   "source": [
    "# Propuestos"
   ]
  },
  {
   "cell_type": "markdown",
   "metadata": {
    "id": "eZFJK66LPjWb"
   },
   "source": [
    "### Implemente el algoritmo K-means"
   ]
  },
  {
   "cell_type": "code",
   "execution_count": null,
   "metadata": {
    "id": "8KtpuMuUPi0h"
   },
   "outputs": [],
   "source": []
  },
  {
   "cell_type": "markdown",
   "metadata": {
    "id": "XKkC9FWEPo_a"
   },
   "source": [
    "### Implemente la normalizacion Min-Max"
   ]
  },
  {
   "cell_type": "code",
   "execution_count": null,
   "metadata": {
    "id": "1mk3vDN4Psun"
   },
   "outputs": [],
   "source": []
  }
 ],
 "metadata": {
  "colab": {
   "authorship_tag": "ABX9TyPMlIvicjtBjyHOt3yRLAdR",
   "collapsed_sections": [],
   "name": "Numpy y Pandas.ipynb",
   "provenance": [],
   "toc_visible": true
  },
  "kernelspec": {
   "display_name": "Python 3",
   "language": "python",
   "name": "python3"
  },
  "language_info": {
   "codemirror_mode": {
    "name": "ipython",
    "version": 3
   },
   "file_extension": ".py",
   "mimetype": "text/x-python",
   "name": "python",
   "nbconvert_exporter": "python",
   "pygments_lexer": "ipython3",
   "version": "3.9.0"
  }
 },
 "nbformat": 4,
 "nbformat_minor": 1
}
